{
 "cells": [
  {
   "cell_type": "markdown",
   "id": "51e4108c-f933-4389-b149-90a908a02bc6",
   "metadata": {},
   "source": [
    "# Generalizing with OOP: The SMABaacktester Class"
   ]
  },
  {
   "cell_type": "markdown",
   "id": "13e37f82-eafa-47ce-a15d-dca8958ff6bc",
   "metadata": {},
   "source": [
    "## Using the SMABacktester Class"
   ]
  },
  {
   "cell_type": "code",
   "execution_count": 2,
   "id": "fd94f52f-57a5-43d1-a691-955ad03eb9af",
   "metadata": {
    "tags": []
   },
   "outputs": [],
   "source": [
    "import pandas as pd\n",
    "import numpy as np\n",
    "import matplotlib.pyplot as plt\n",
    "from itertools import product\n",
    "plt.style.use(\"seaborn-v0_8\")"
   ]
  },
  {
   "cell_type": "code",
   "execution_count": 146,
   "id": "fa122625-488b-4e0b-af21-670460cc6c6e",
   "metadata": {
    "tags": []
   },
   "outputs": [
    {
     "data": {
      "text/html": [
       "<div>\n",
       "<style scoped>\n",
       "    .dataframe tbody tr th:only-of-type {\n",
       "        vertical-align: middle;\n",
       "    }\n",
       "\n",
       "    .dataframe tbody tr th {\n",
       "        vertical-align: top;\n",
       "    }\n",
       "\n",
       "    .dataframe thead th {\n",
       "        text-align: right;\n",
       "    }\n",
       "</style>\n",
       "<table border=\"1\" class=\"dataframe\">\n",
       "  <thead>\n",
       "    <tr style=\"text-align: right;\">\n",
       "      <th></th>\n",
       "      <th>AUDEUR=X</th>\n",
       "      <th>EURUSD=X</th>\n",
       "      <th>USDGBP=X</th>\n",
       "    </tr>\n",
       "    <tr>\n",
       "      <th>Date</th>\n",
       "      <th></th>\n",
       "      <th></th>\n",
       "      <th></th>\n",
       "    </tr>\n",
       "  </thead>\n",
       "  <tbody>\n",
       "    <tr>\n",
       "      <th>2004-01-01</th>\n",
       "      <td>0.59780</td>\n",
       "      <td>1.258194</td>\n",
       "      <td>0.56016</td>\n",
       "    </tr>\n",
       "    <tr>\n",
       "      <th>2004-01-02</th>\n",
       "      <td>0.60314</td>\n",
       "      <td>1.258194</td>\n",
       "      <td>0.55751</td>\n",
       "    </tr>\n",
       "    <tr>\n",
       "      <th>2004-01-05</th>\n",
       "      <td>0.60467</td>\n",
       "      <td>1.268698</td>\n",
       "      <td>0.55334</td>\n",
       "    </tr>\n",
       "    <tr>\n",
       "      <th>2004-01-06</th>\n",
       "      <td>0.60350</td>\n",
       "      <td>1.272103</td>\n",
       "      <td>0.54906</td>\n",
       "    </tr>\n",
       "    <tr>\n",
       "      <th>2004-01-07</th>\n",
       "      <td>0.60728</td>\n",
       "      <td>1.264095</td>\n",
       "      <td>0.55012</td>\n",
       "    </tr>\n",
       "    <tr>\n",
       "      <th>...</th>\n",
       "      <td>...</td>\n",
       "      <td>...</td>\n",
       "      <td>...</td>\n",
       "    </tr>\n",
       "    <tr>\n",
       "      <th>2020-06-24</th>\n",
       "      <td>0.61349</td>\n",
       "      <td>1.131235</td>\n",
       "      <td>0.79841</td>\n",
       "    </tr>\n",
       "    <tr>\n",
       "      <th>2020-06-25</th>\n",
       "      <td>0.60938</td>\n",
       "      <td>1.125087</td>\n",
       "      <td>0.80561</td>\n",
       "    </tr>\n",
       "    <tr>\n",
       "      <th>2020-06-26</th>\n",
       "      <td>0.61373</td>\n",
       "      <td>1.122208</td>\n",
       "      <td>0.80480</td>\n",
       "    </tr>\n",
       "    <tr>\n",
       "      <th>2020-06-29</th>\n",
       "      <td>0.61128</td>\n",
       "      <td>1.122586</td>\n",
       "      <td>0.81023</td>\n",
       "    </tr>\n",
       "    <tr>\n",
       "      <th>2020-06-30</th>\n",
       "      <td>0.61097</td>\n",
       "      <td>1.124720</td>\n",
       "      <td>0.81231</td>\n",
       "    </tr>\n",
       "  </tbody>\n",
       "</table>\n",
       "<p>4295 rows × 3 columns</p>\n",
       "</div>"
      ],
      "text/plain": [
       "            AUDEUR=X  EURUSD=X  USDGBP=X\n",
       "Date                                    \n",
       "2004-01-01   0.59780  1.258194   0.56016\n",
       "2004-01-02   0.60314  1.258194   0.55751\n",
       "2004-01-05   0.60467  1.268698   0.55334\n",
       "2004-01-06   0.60350  1.272103   0.54906\n",
       "2004-01-07   0.60728  1.264095   0.55012\n",
       "...              ...       ...       ...\n",
       "2020-06-24   0.61349  1.131235   0.79841\n",
       "2020-06-25   0.60938  1.125087   0.80561\n",
       "2020-06-26   0.61373  1.122208   0.80480\n",
       "2020-06-29   0.61128  1.122586   0.81023\n",
       "2020-06-30   0.61097  1.124720   0.81231\n",
       "\n",
       "[4295 rows x 3 columns]"
      ]
     },
     "execution_count": 146,
     "metadata": {},
     "output_type": "execute_result"
    }
   ],
   "source": [
    "df = pd.read_csv(\"data/forex_pairs.csv\", parse_dates = [\"Date\"], index_col = \"Date\")\n",
    "df"
   ]
  },
  {
   "cell_type": "code",
   "execution_count": 4,
   "id": "fc3f1b82-f61a-43be-be55-dc40929e5de4",
   "metadata": {
    "tags": []
   },
   "outputs": [
    {
     "name": "stdout",
     "output_type": "stream",
     "text": [
      "<class 'pandas.core.frame.DataFrame'>\n",
      "DatetimeIndex: 4295 entries, 2004-01-01 to 2020-06-30\n",
      "Data columns (total 3 columns):\n",
      " #   Column    Non-Null Count  Dtype  \n",
      "---  ------    --------------  -----  \n",
      " 0   AUDEUR=X  4274 non-null   float64\n",
      " 1   EURUSD=X  4275 non-null   float64\n",
      " 2   USDGBP=X  4287 non-null   float64\n",
      "dtypes: float64(3)\n",
      "memory usage: 134.2 KB\n"
     ]
    }
   ],
   "source": [
    "df.info()"
   ]
  },
  {
   "cell_type": "code",
   "execution_count": null,
   "id": "151868a2-f27c-4ac1-a32b-97d91edf6783",
   "metadata": {},
   "outputs": [],
   "source": []
  },
  {
   "cell_type": "markdown",
   "id": "33bebe55-5466-4638-b87d-a02be85d9615",
   "metadata": {},
   "source": [
    "## Building hte SMABacktester Class from scratch: Instantiation"
   ]
  },
  {
   "cell_type": "code",
   "execution_count": 147,
   "id": "dc7aee36-3102-452b-be2f-6d94459722f8",
   "metadata": {
    "tags": []
   },
   "outputs": [],
   "source": [
    "class SMABacktester():\n",
    "    ''' Class for the vectorized backtesting of SMA-based trading strategies\n",
    "    '''\n",
    "    def __init__(self, symbol, SMA_S, SMA_L, start, end):\n",
    "        '''\n",
    "        Parameters\n",
    "        ----------\n",
    "        symbol: str\n",
    "            ticker symbol (instrument) to be backtested\n",
    "        SMA_S: int\n",
    "            moving window in bars (e.g. days) for shorter SMA\n",
    "        SMA_L: int\n",
    "            moving window in bars (e.g. days) for longer SMA\n",
    "        start: str\n",
    "            start date for data import\n",
    "        end: str\n",
    "            end date for data import\n",
    "        '''\n",
    "        self.symbol = symbol\n",
    "        self.SMA_S = SMA_S\n",
    "        self.SMA_L = SMA_L\n",
    "        self.start = start\n",
    "        self.end = end\n",
    "        self.results = None\n",
    "        self.get_data()\n",
    "        self.prepare_data()\n",
    "        \n",
    "    def __repr__(self):\n",
    "        return \"SMABacktester(symbol = {}, SMA_S = {}, SMA_L = {}, start = {}, end = {})\".format(self.symbol, self.SMA_S, self.SMA_L, self.start, self.end)\n",
    "        \n",
    "    def get_data(self):\n",
    "        ''' Import the data from forex_pairs.csv (source can be changed).\n",
    "        '''\n",
    "        raw = pd.read_csv(\"data/forex_pairs.csv\", parse_dates = [\"Date\"], index_col = \"Date\")\n",
    "        raw = raw[self.symbol].to_frame().dropna()\n",
    "        raw = raw.loc[self.start:self.end].copy()\n",
    "        raw.rename(columns={self.symbol: \"price\"}, inplace=True)\n",
    "        raw[\"returns\"] = np.log(raw / raw.shift(1))\n",
    "        self.data = raw\n",
    "        \n",
    "    def prepare_data(self):\n",
    "        '''Prepares the data for strategy backtesting (strategy-specific).\n",
    "        '''\n",
    "        data = self.data.copy()\n",
    "        data[\"SMA_S\"] = data[\"price\"].rolling(self.SMA_S).mean()\n",
    "        data[\"SMA_L\"] = data[\"price\"].rolling(self.SMA_L).mean()\n",
    "        self.data = data\n",
    "    \n",
    "    def set_parameters(self, SMA_S = None, SMA_L = None):\n",
    "        ''' Updates SMA parameters and the prepared dataset.\n",
    "        '''\n",
    "        if SMA_S is not None:\n",
    "            self.SMA_S = SMA_S\n",
    "            self.data[\"SMA_S\"] = self.data[\"price\"].rolling(self.SMA_S).mean()\n",
    "        if SMA_L is not None:\n",
    "            self.SMA_L = SMA_L\n",
    "            self.data[\"SMA_L\"] = self.data[\"price\"].rolling(self.SMA_L).mean()\n",
    "            \n",
    "    def test_strategy(self):\n",
    "        ''' Backtests the SMA-based trading strategy.\n",
    "        '''\n",
    "        data = self.data.copy().dropna()\n",
    "        data[\"position\"] = np.where(data[\"SMA_S\"] > data[\"SMA_L\"], 1, -1)\n",
    "        data[\"strategy\"] = data[\"position\"].shift(1) * data[\"returns\"]\n",
    "        data.dropna(inplace=True)\n",
    "        data[\"creturns\"]  = data[\"returns\"].cumsum().apply(np.exp)\n",
    "        data[\"cstrategy\"] = data[\"strategy\"].cumsum().apply(np.exp)\n",
    "        self.results = data\n",
    "        \n",
    "        perf = data[\"cstrategy\"].iloc[-1] # absolute performance\n",
    "        outperf = perf - data[\"creturns\"].iloc[-1] # outperformance\n",
    "        return round(perf, 6), round(outperf, 6)\n",
    "    \n",
    "    def plot_results(self):\n",
    "        ''' Plots the performance of the trading strategy and compares to \"buy and hold\".\n",
    "        '''\n",
    "        if self.results is None:\n",
    "            print(\"Run test_strategy() first\")\n",
    "        else:\n",
    "            title = \"{} | SMA_S = {} | SMA_L = {}\".format(self.symbol, self.SMA_S, self.SMA_L)\n",
    "            self.results[[\"creturns\", \"cstrategy\"]].plot(title=title, figsize=(12, 8))\n",
    "            \n",
    "    def optimize_parameters(self, SMA_S_range, SMA_L_range):\n",
    "        ''' Finds the optimal strategy (global maximum) given the SMA parameter ranges.\n",
    "\n",
    "        Parameters\n",
    "        ----------\n",
    "        SMA_S_range, SMA_L_range: tuple\n",
    "            tuples of the form (start, end, step size)\n",
    "        '''\n",
    "        combinations = list(product(range(*SMA_S_range), range(*SMA_L_range)))\n",
    "        \n",
    "        # test all combinations\n",
    "        results = []\n",
    "        for comb in combinations:\n",
    "            self.set_parameters(comb[0], comb[1])\n",
    "            results.append(self.test_strategy()[0])\n",
    "            \n",
    "        best_perf = np.max(results) # best performance\n",
    "        opt = combinations[np.argmax(results)] # optimal parameters\n",
    "        \n",
    "        # run/set the optimal strategy\n",
    "        self.set_parameters(opt[0], opt[1])\n",
    "        self.test_strategy()\n",
    "        \n",
    "        # create a df with many results\n",
    "        many_results = pd.DataFrame(data = combinations, columns = [\"SMA_S\", \"SMA_L\"])\n",
    "        many_results[\"performance\"] = results\n",
    "        self.results_overview = many_results\n",
    "        \n",
    "        return opt, best_perf"
   ]
  },
  {
   "cell_type": "code",
   "execution_count": 148,
   "id": "d17a82e4-9709-48cf-847e-1ece79a06431",
   "metadata": {
    "tags": []
   },
   "outputs": [],
   "source": [
    "tester = SMABacktester(\"EURUSD=X\", 50, 200, \"2004-01-01\", \"2020-06-30\")"
   ]
  },
  {
   "cell_type": "code",
   "execution_count": 149,
   "id": "9845c3f7-46e7-44db-918e-1b06cb7c1f32",
   "metadata": {
    "tags": []
   },
   "outputs": [
    {
     "data": {
      "text/html": [
       "<div>\n",
       "<style scoped>\n",
       "    .dataframe tbody tr th:only-of-type {\n",
       "        vertical-align: middle;\n",
       "    }\n",
       "\n",
       "    .dataframe tbody tr th {\n",
       "        vertical-align: top;\n",
       "    }\n",
       "\n",
       "    .dataframe thead th {\n",
       "        text-align: right;\n",
       "    }\n",
       "</style>\n",
       "<table border=\"1\" class=\"dataframe\">\n",
       "  <thead>\n",
       "    <tr style=\"text-align: right;\">\n",
       "      <th></th>\n",
       "      <th>price</th>\n",
       "      <th>returns</th>\n",
       "      <th>SMA_S</th>\n",
       "      <th>SMA_L</th>\n",
       "    </tr>\n",
       "    <tr>\n",
       "      <th>Date</th>\n",
       "      <th></th>\n",
       "      <th></th>\n",
       "      <th></th>\n",
       "      <th></th>\n",
       "    </tr>\n",
       "  </thead>\n",
       "  <tbody>\n",
       "    <tr>\n",
       "      <th>2004-01-01</th>\n",
       "      <td>1.258194</td>\n",
       "      <td>NaN</td>\n",
       "      <td>NaN</td>\n",
       "      <td>NaN</td>\n",
       "    </tr>\n",
       "    <tr>\n",
       "      <th>2004-01-02</th>\n",
       "      <td>1.258194</td>\n",
       "      <td>0.000000</td>\n",
       "      <td>NaN</td>\n",
       "      <td>NaN</td>\n",
       "    </tr>\n",
       "    <tr>\n",
       "      <th>2004-01-05</th>\n",
       "      <td>1.268698</td>\n",
       "      <td>0.008313</td>\n",
       "      <td>NaN</td>\n",
       "      <td>NaN</td>\n",
       "    </tr>\n",
       "    <tr>\n",
       "      <th>2004-01-06</th>\n",
       "      <td>1.272103</td>\n",
       "      <td>0.002681</td>\n",
       "      <td>NaN</td>\n",
       "      <td>NaN</td>\n",
       "    </tr>\n",
       "    <tr>\n",
       "      <th>2004-01-07</th>\n",
       "      <td>1.264095</td>\n",
       "      <td>-0.006315</td>\n",
       "      <td>NaN</td>\n",
       "      <td>NaN</td>\n",
       "    </tr>\n",
       "    <tr>\n",
       "      <th>...</th>\n",
       "      <td>...</td>\n",
       "      <td>...</td>\n",
       "      <td>...</td>\n",
       "      <td>...</td>\n",
       "    </tr>\n",
       "    <tr>\n",
       "      <th>2020-06-24</th>\n",
       "      <td>1.131235</td>\n",
       "      <td>0.002892</td>\n",
       "      <td>1.101794</td>\n",
       "      <td>1.103430</td>\n",
       "    </tr>\n",
       "    <tr>\n",
       "      <th>2020-06-25</th>\n",
       "      <td>1.125087</td>\n",
       "      <td>-0.005449</td>\n",
       "      <td>1.102486</td>\n",
       "      <td>1.103540</td>\n",
       "    </tr>\n",
       "    <tr>\n",
       "      <th>2020-06-26</th>\n",
       "      <td>1.122208</td>\n",
       "      <td>-0.002562</td>\n",
       "      <td>1.103213</td>\n",
       "      <td>1.103627</td>\n",
       "    </tr>\n",
       "    <tr>\n",
       "      <th>2020-06-29</th>\n",
       "      <td>1.122586</td>\n",
       "      <td>0.000337</td>\n",
       "      <td>1.103931</td>\n",
       "      <td>1.103730</td>\n",
       "    </tr>\n",
       "    <tr>\n",
       "      <th>2020-06-30</th>\n",
       "      <td>1.124720</td>\n",
       "      <td>0.001899</td>\n",
       "      <td>1.104695</td>\n",
       "      <td>1.103857</td>\n",
       "    </tr>\n",
       "  </tbody>\n",
       "</table>\n",
       "<p>4275 rows × 4 columns</p>\n",
       "</div>"
      ],
      "text/plain": [
       "               price   returns     SMA_S     SMA_L\n",
       "Date                                              \n",
       "2004-01-01  1.258194       NaN       NaN       NaN\n",
       "2004-01-02  1.258194  0.000000       NaN       NaN\n",
       "2004-01-05  1.268698  0.008313       NaN       NaN\n",
       "2004-01-06  1.272103  0.002681       NaN       NaN\n",
       "2004-01-07  1.264095 -0.006315       NaN       NaN\n",
       "...              ...       ...       ...       ...\n",
       "2020-06-24  1.131235  0.002892  1.101794  1.103430\n",
       "2020-06-25  1.125087 -0.005449  1.102486  1.103540\n",
       "2020-06-26  1.122208 -0.002562  1.103213  1.103627\n",
       "2020-06-29  1.122586  0.000337  1.103931  1.103730\n",
       "2020-06-30  1.124720  0.001899  1.104695  1.103857\n",
       "\n",
       "[4275 rows x 4 columns]"
      ]
     },
     "execution_count": 149,
     "metadata": {},
     "output_type": "execute_result"
    }
   ],
   "source": [
    "tester.data"
   ]
  },
  {
   "cell_type": "code",
   "execution_count": 152,
   "id": "4b39426e-6031-4221-a03e-9e4a7ea64d97",
   "metadata": {
    "tags": []
   },
   "outputs": [
    {
     "data": {
      "text/html": [
       "<div>\n",
       "<style scoped>\n",
       "    .dataframe tbody tr th:only-of-type {\n",
       "        vertical-align: middle;\n",
       "    }\n",
       "\n",
       "    .dataframe tbody tr th {\n",
       "        vertical-align: top;\n",
       "    }\n",
       "\n",
       "    .dataframe thead th {\n",
       "        text-align: right;\n",
       "    }\n",
       "</style>\n",
       "<table border=\"1\" class=\"dataframe\">\n",
       "  <thead>\n",
       "    <tr style=\"text-align: right;\">\n",
       "      <th></th>\n",
       "      <th>price</th>\n",
       "      <th>returns</th>\n",
       "      <th>SMA_S</th>\n",
       "      <th>SMA_L</th>\n",
       "      <th>position</th>\n",
       "      <th>strategy</th>\n",
       "      <th>creturns</th>\n",
       "      <th>cstrategy</th>\n",
       "    </tr>\n",
       "    <tr>\n",
       "      <th>Date</th>\n",
       "      <th></th>\n",
       "      <th></th>\n",
       "      <th></th>\n",
       "      <th></th>\n",
       "      <th></th>\n",
       "      <th></th>\n",
       "      <th></th>\n",
       "      <th></th>\n",
       "    </tr>\n",
       "  </thead>\n",
       "  <tbody>\n",
       "    <tr>\n",
       "      <th>2004-10-07</th>\n",
       "      <td>1.229906</td>\n",
       "      <td>0.001475</td>\n",
       "      <td>1.221840</td>\n",
       "      <td>1.226081</td>\n",
       "      <td>-1</td>\n",
       "      <td>-0.001475</td>\n",
       "      <td>1.001476</td>\n",
       "      <td>0.998526</td>\n",
       "    </tr>\n",
       "    <tr>\n",
       "      <th>2004-10-08</th>\n",
       "      <td>1.241003</td>\n",
       "      <td>0.008982</td>\n",
       "      <td>1.222628</td>\n",
       "      <td>1.225995</td>\n",
       "      <td>-1</td>\n",
       "      <td>-0.008982</td>\n",
       "      <td>1.010511</td>\n",
       "      <td>0.989598</td>\n",
       "    </tr>\n",
       "    <tr>\n",
       "      <th>2004-10-11</th>\n",
       "      <td>1.238405</td>\n",
       "      <td>-0.002095</td>\n",
       "      <td>1.223352</td>\n",
       "      <td>1.225843</td>\n",
       "      <td>-1</td>\n",
       "      <td>0.002095</td>\n",
       "      <td>1.008396</td>\n",
       "      <td>0.991673</td>\n",
       "    </tr>\n",
       "    <tr>\n",
       "      <th>2004-10-12</th>\n",
       "      <td>1.232104</td>\n",
       "      <td>-0.005102</td>\n",
       "      <td>1.223888</td>\n",
       "      <td>1.225643</td>\n",
       "      <td>-1</td>\n",
       "      <td>0.005102</td>\n",
       "      <td>1.003265</td>\n",
       "      <td>0.996746</td>\n",
       "    </tr>\n",
       "    <tr>\n",
       "      <th>2004-10-13</th>\n",
       "      <td>1.234903</td>\n",
       "      <td>0.002270</td>\n",
       "      <td>1.224466</td>\n",
       "      <td>1.225497</td>\n",
       "      <td>-1</td>\n",
       "      <td>-0.002270</td>\n",
       "      <td>1.005545</td>\n",
       "      <td>0.994486</td>\n",
       "    </tr>\n",
       "    <tr>\n",
       "      <th>...</th>\n",
       "      <td>...</td>\n",
       "      <td>...</td>\n",
       "      <td>...</td>\n",
       "      <td>...</td>\n",
       "      <td>...</td>\n",
       "      <td>...</td>\n",
       "      <td>...</td>\n",
       "      <td>...</td>\n",
       "    </tr>\n",
       "    <tr>\n",
       "      <th>2020-06-24</th>\n",
       "      <td>1.131235</td>\n",
       "      <td>0.002892</td>\n",
       "      <td>1.101794</td>\n",
       "      <td>1.103430</td>\n",
       "      <td>-1</td>\n",
       "      <td>-0.002892</td>\n",
       "      <td>0.921130</td>\n",
       "      <td>1.271272</td>\n",
       "    </tr>\n",
       "    <tr>\n",
       "      <th>2020-06-25</th>\n",
       "      <td>1.125087</td>\n",
       "      <td>-0.005449</td>\n",
       "      <td>1.102486</td>\n",
       "      <td>1.103540</td>\n",
       "      <td>-1</td>\n",
       "      <td>0.005449</td>\n",
       "      <td>0.916125</td>\n",
       "      <td>1.278218</td>\n",
       "    </tr>\n",
       "    <tr>\n",
       "      <th>2020-06-26</th>\n",
       "      <td>1.122208</td>\n",
       "      <td>-0.002562</td>\n",
       "      <td>1.103213</td>\n",
       "      <td>1.103627</td>\n",
       "      <td>-1</td>\n",
       "      <td>0.002562</td>\n",
       "      <td>0.913781</td>\n",
       "      <td>1.281497</td>\n",
       "    </tr>\n",
       "    <tr>\n",
       "      <th>2020-06-29</th>\n",
       "      <td>1.122586</td>\n",
       "      <td>0.000337</td>\n",
       "      <td>1.103931</td>\n",
       "      <td>1.103730</td>\n",
       "      <td>1</td>\n",
       "      <td>-0.000337</td>\n",
       "      <td>0.914089</td>\n",
       "      <td>1.281065</td>\n",
       "    </tr>\n",
       "    <tr>\n",
       "      <th>2020-06-30</th>\n",
       "      <td>1.124720</td>\n",
       "      <td>0.001899</td>\n",
       "      <td>1.104695</td>\n",
       "      <td>1.103857</td>\n",
       "      <td>1</td>\n",
       "      <td>0.001899</td>\n",
       "      <td>0.915826</td>\n",
       "      <td>1.283500</td>\n",
       "    </tr>\n",
       "  </tbody>\n",
       "</table>\n",
       "<p>4075 rows × 8 columns</p>\n",
       "</div>"
      ],
      "text/plain": [
       "               price   returns     SMA_S     SMA_L  position  strategy  \\\n",
       "Date                                                                     \n",
       "2004-10-07  1.229906  0.001475  1.221840  1.226081        -1 -0.001475   \n",
       "2004-10-08  1.241003  0.008982  1.222628  1.225995        -1 -0.008982   \n",
       "2004-10-11  1.238405 -0.002095  1.223352  1.225843        -1  0.002095   \n",
       "2004-10-12  1.232104 -0.005102  1.223888  1.225643        -1  0.005102   \n",
       "2004-10-13  1.234903  0.002270  1.224466  1.225497        -1 -0.002270   \n",
       "...              ...       ...       ...       ...       ...       ...   \n",
       "2020-06-24  1.131235  0.002892  1.101794  1.103430        -1 -0.002892   \n",
       "2020-06-25  1.125087 -0.005449  1.102486  1.103540        -1  0.005449   \n",
       "2020-06-26  1.122208 -0.002562  1.103213  1.103627        -1  0.002562   \n",
       "2020-06-29  1.122586  0.000337  1.103931  1.103730         1 -0.000337   \n",
       "2020-06-30  1.124720  0.001899  1.104695  1.103857         1  0.001899   \n",
       "\n",
       "            creturns  cstrategy  \n",
       "Date                             \n",
       "2004-10-07  1.001476   0.998526  \n",
       "2004-10-08  1.010511   0.989598  \n",
       "2004-10-11  1.008396   0.991673  \n",
       "2004-10-12  1.003265   0.996746  \n",
       "2004-10-13  1.005545   0.994486  \n",
       "...              ...        ...  \n",
       "2020-06-24  0.921130   1.271272  \n",
       "2020-06-25  0.916125   1.278218  \n",
       "2020-06-26  0.913781   1.281497  \n",
       "2020-06-29  0.914089   1.281065  \n",
       "2020-06-30  0.915826   1.283500  \n",
       "\n",
       "[4075 rows x 8 columns]"
      ]
     },
     "execution_count": 152,
     "metadata": {},
     "output_type": "execute_result"
    }
   ],
   "source": [
    "tester.results"
   ]
  },
  {
   "cell_type": "code",
   "execution_count": 151,
   "id": "9eb0795a-828d-4d3a-bdcc-bc5825730115",
   "metadata": {
    "tags": []
   },
   "outputs": [
    {
     "data": {
      "text/plain": [
       "(1.2835, 0.367674)"
      ]
     },
     "execution_count": 151,
     "metadata": {},
     "output_type": "execute_result"
    }
   ],
   "source": [
    "tester.test_strategy()"
   ]
  },
  {
   "cell_type": "code",
   "execution_count": 143,
   "id": "62189d27-86b9-4ced-9642-3bd46efe9982",
   "metadata": {
    "tags": []
   },
   "outputs": [
    {
     "data": {
      "text/plain": [
       "((46, 137), 2.526694)"
      ]
     },
     "execution_count": 143,
     "metadata": {},
     "output_type": "execute_result"
    }
   ],
   "source": [
    "tester.optimize_parameters((10,50,1),(100,252,1))"
   ]
  },
  {
   "cell_type": "code",
   "execution_count": 145,
   "id": "b3672046-8f7f-4819-8635-ebb1315d309b",
   "metadata": {
    "tags": []
   },
   "outputs": [
    {
     "data": {
      "image/png": "[encoded data removed]",
      "text/plain": [
       "<Figure size 1200x800 with 1 Axes>"
      ]
     },
     "metadata": {},
     "output_type": "display_data"
    }
   ],
   "source": [
    "tester.plot_results()"
   ]
  },
  {
   "cell_type": "code",
   "execution_count": null,
   "id": "03825815-66f6-422a-889f-85c3bcfae301",
   "metadata": {},
   "outputs": [],
   "source": []
  },
  {
   "cell_type": "code",
   "execution_count": null,
   "id": "ab48b795-c64d-42b8-a886-c6ebc2fd1c07",
   "metadata": {},
   "outputs": [],
   "source": []
  },
  {
   "cell_type": "code",
   "execution_count": null,
   "id": "61062124-cdd9-4e4f-b6d1-24605491b9db",
   "metadata": {},
   "outputs": [],
   "source": []
  },
  {
   "cell_type": "code",
   "execution_count": null,
   "id": "7cb85ea8-7889-4354-a9ce-a5771d396cd4",
   "metadata": {},
   "outputs": [],
   "source": []
  },
  {
   "cell_type": "code",
   "execution_count": null,
   "id": "dd4f3717-eb7f-4104-af5e-f943de427501",
   "metadata": {},
   "outputs": [],
   "source": []
  },
  {
   "cell_type": "code",
   "execution_count": null,
   "id": "0aff62ed-70df-4cbc-8d66-7635b91145fe",
   "metadata": {},
   "outputs": [],
   "source": []
  },
  {
   "cell_type": "code",
   "execution_count": null,
   "id": "35fcc3b4-aa4c-4b19-bee4-627ce9a99a33",
   "metadata": {},
   "outputs": [],
   "source": []
  },
  {
   "cell_type": "code",
   "execution_count": null,
   "id": "719f27e8-11e5-43e1-af94-bce3ba4ee7d3",
   "metadata": {},
   "outputs": [],
   "source": []
  },
  {
   "cell_type": "code",
   "execution_count": null,
   "id": "e71bd646-4014-4a6a-a1d0-bd4d55a3a3fb",
   "metadata": {},
   "outputs": [],
   "source": []
  },
  {
   "cell_type": "code",
   "execution_count": null,
   "id": "ff7bb2d0-bb2a-4eb1-804d-3eac292113ea",
   "metadata": {},
   "outputs": [],
   "source": []
  },
  {
   "cell_type": "code",
   "execution_count": null,
   "id": "5fd6123e-5f8c-4f30-8cea-c55202533e7a",
   "metadata": {},
   "outputs": [],
   "source": []
  },
  {
   "cell_type": "code",
   "execution_count": null,
   "id": "b197c6ca-ca37-4189-bc3f-dc7df0cc5de9",
   "metadata": {},
   "outputs": [],
   "source": []
  },
  {
   "cell_type": "code",
   "execution_count": null,
   "id": "a8017089-5503-4353-bf12-cbffc55b23a8",
   "metadata": {},
   "outputs": [],
   "source": []
  },
  {
   "cell_type": "code",
   "execution_count": null,
   "id": "db185fd0-d3ca-4b25-b246-553b865f619e",
   "metadata": {},
   "outputs": [],
   "source": []
  },
  {
   "cell_type": "markdown",
   "id": "e540740f-6aec-4c35-94ae-cfc4ba39f4c1",
   "metadata": {},
   "source": [
    "## Method get_data()"
   ]
  },
  {
   "cell_type": "code",
   "execution_count": 16,
   "id": "36346c93-d7e9-44ed-9834-fcbdef112da2",
   "metadata": {
    "tags": []
   },
   "outputs": [
    {
     "data": {
      "text/html": [
       "<div>\n",
       "<style scoped>\n",
       "    .dataframe tbody tr th:only-of-type {\n",
       "        vertical-align: middle;\n",
       "    }\n",
       "\n",
       "    .dataframe tbody tr th {\n",
       "        vertical-align: top;\n",
       "    }\n",
       "\n",
       "    .dataframe thead th {\n",
       "        text-align: right;\n",
       "    }\n",
       "</style>\n",
       "<table border=\"1\" class=\"dataframe\">\n",
       "  <thead>\n",
       "    <tr style=\"text-align: right;\">\n",
       "      <th></th>\n",
       "      <th>AUDEUR=X</th>\n",
       "      <th>EURUSD=X</th>\n",
       "      <th>USDGBP=X</th>\n",
       "    </tr>\n",
       "    <tr>\n",
       "      <th>Date</th>\n",
       "      <th></th>\n",
       "      <th></th>\n",
       "      <th></th>\n",
       "    </tr>\n",
       "  </thead>\n",
       "  <tbody>\n",
       "    <tr>\n",
       "      <th>2004-01-01</th>\n",
       "      <td>0.59780</td>\n",
       "      <td>1.258194</td>\n",
       "      <td>0.56016</td>\n",
       "    </tr>\n",
       "    <tr>\n",
       "      <th>2004-01-02</th>\n",
       "      <td>0.60314</td>\n",
       "      <td>1.258194</td>\n",
       "      <td>0.55751</td>\n",
       "    </tr>\n",
       "    <tr>\n",
       "      <th>2004-01-05</th>\n",
       "      <td>0.60467</td>\n",
       "      <td>1.268698</td>\n",
       "      <td>0.55334</td>\n",
       "    </tr>\n",
       "    <tr>\n",
       "      <th>2004-01-06</th>\n",
       "      <td>0.60350</td>\n",
       "      <td>1.272103</td>\n",
       "      <td>0.54906</td>\n",
       "    </tr>\n",
       "    <tr>\n",
       "      <th>2004-01-07</th>\n",
       "      <td>0.60728</td>\n",
       "      <td>1.264095</td>\n",
       "      <td>0.55012</td>\n",
       "    </tr>\n",
       "    <tr>\n",
       "      <th>...</th>\n",
       "      <td>...</td>\n",
       "      <td>...</td>\n",
       "      <td>...</td>\n",
       "    </tr>\n",
       "    <tr>\n",
       "      <th>2020-06-24</th>\n",
       "      <td>0.61349</td>\n",
       "      <td>1.131235</td>\n",
       "      <td>0.79841</td>\n",
       "    </tr>\n",
       "    <tr>\n",
       "      <th>2020-06-25</th>\n",
       "      <td>0.60938</td>\n",
       "      <td>1.125087</td>\n",
       "      <td>0.80561</td>\n",
       "    </tr>\n",
       "    <tr>\n",
       "      <th>2020-06-26</th>\n",
       "      <td>0.61373</td>\n",
       "      <td>1.122208</td>\n",
       "      <td>0.80480</td>\n",
       "    </tr>\n",
       "    <tr>\n",
       "      <th>2020-06-29</th>\n",
       "      <td>0.61128</td>\n",
       "      <td>1.122586</td>\n",
       "      <td>0.81023</td>\n",
       "    </tr>\n",
       "    <tr>\n",
       "      <th>2020-06-30</th>\n",
       "      <td>0.61097</td>\n",
       "      <td>1.124720</td>\n",
       "      <td>0.81231</td>\n",
       "    </tr>\n",
       "  </tbody>\n",
       "</table>\n",
       "<p>4295 rows × 3 columns</p>\n",
       "</div>"
      ],
      "text/plain": [
       "            AUDEUR=X  EURUSD=X  USDGBP=X\n",
       "Date                                    \n",
       "2004-01-01   0.59780  1.258194   0.56016\n",
       "2004-01-02   0.60314  1.258194   0.55751\n",
       "2004-01-05   0.60467  1.268698   0.55334\n",
       "2004-01-06   0.60350  1.272103   0.54906\n",
       "2004-01-07   0.60728  1.264095   0.55012\n",
       "...              ...       ...       ...\n",
       "2020-06-24   0.61349  1.131235   0.79841\n",
       "2020-06-25   0.60938  1.125087   0.80561\n",
       "2020-06-26   0.61373  1.122208   0.80480\n",
       "2020-06-29   0.61128  1.122586   0.81023\n",
       "2020-06-30   0.61097  1.124720   0.81231\n",
       "\n",
       "[4295 rows x 3 columns]"
      ]
     },
     "execution_count": 16,
     "metadata": {},
     "output_type": "execute_result"
    }
   ],
   "source": [
    "raw = pd.read_csv(\"data/forex_pairs.csv\", parse_dates = [\"Date\"], index_col = \"Date\")\n",
    "raw"
   ]
  },
  {
   "cell_type": "code",
   "execution_count": 22,
   "id": "df54114b-c992-4825-84f1-b7ee5dbed2a3",
   "metadata": {
    "tags": []
   },
   "outputs": [],
   "source": [
    "raw = raw[\"AUDEUR=X\"].to_frame().dropna() # selecting an instrument"
   ]
  },
  {
   "cell_type": "code",
   "execution_count": 23,
   "id": "1980c1f3-ce5b-484b-8ed0-12de2ff27e9a",
   "metadata": {
    "tags": []
   },
   "outputs": [
    {
     "data": {
      "text/html": [
       "<div>\n",
       "<style scoped>\n",
       "    .dataframe tbody tr th:only-of-type {\n",
       "        vertical-align: middle;\n",
       "    }\n",
       "\n",
       "    .dataframe tbody tr th {\n",
       "        vertical-align: top;\n",
       "    }\n",
       "\n",
       "    .dataframe thead th {\n",
       "        text-align: right;\n",
       "    }\n",
       "</style>\n",
       "<table border=\"1\" class=\"dataframe\">\n",
       "  <thead>\n",
       "    <tr style=\"text-align: right;\">\n",
       "      <th></th>\n",
       "      <th>AUDEUR=X</th>\n",
       "    </tr>\n",
       "    <tr>\n",
       "      <th>Date</th>\n",
       "      <th></th>\n",
       "    </tr>\n",
       "  </thead>\n",
       "  <tbody>\n",
       "    <tr>\n",
       "      <th>2010-01-11</th>\n",
       "      <td>0.64060</td>\n",
       "    </tr>\n",
       "    <tr>\n",
       "      <th>2010-01-12</th>\n",
       "      <td>0.63550</td>\n",
       "    </tr>\n",
       "    <tr>\n",
       "      <th>2010-01-13</th>\n",
       "      <td>0.63600</td>\n",
       "    </tr>\n",
       "    <tr>\n",
       "      <th>2010-01-14</th>\n",
       "      <td>0.64190</td>\n",
       "    </tr>\n",
       "    <tr>\n",
       "      <th>2010-01-15</th>\n",
       "      <td>0.64098</td>\n",
       "    </tr>\n",
       "    <tr>\n",
       "      <th>...</th>\n",
       "      <td>...</td>\n",
       "    </tr>\n",
       "    <tr>\n",
       "      <th>2012-12-25</th>\n",
       "      <td>0.78620</td>\n",
       "    </tr>\n",
       "    <tr>\n",
       "      <th>2012-12-26</th>\n",
       "      <td>0.78680</td>\n",
       "    </tr>\n",
       "    <tr>\n",
       "      <th>2012-12-27</th>\n",
       "      <td>0.78340</td>\n",
       "    </tr>\n",
       "    <tr>\n",
       "      <th>2012-12-28</th>\n",
       "      <td>0.78250</td>\n",
       "    </tr>\n",
       "    <tr>\n",
       "      <th>2012-12-31</th>\n",
       "      <td>0.78540</td>\n",
       "    </tr>\n",
       "  </tbody>\n",
       "</table>\n",
       "<p>775 rows × 1 columns</p>\n",
       "</div>"
      ],
      "text/plain": [
       "            AUDEUR=X\n",
       "Date                \n",
       "2010-01-11   0.64060\n",
       "2010-01-12   0.63550\n",
       "2010-01-13   0.63600\n",
       "2010-01-14   0.64190\n",
       "2010-01-15   0.64098\n",
       "...              ...\n",
       "2012-12-25   0.78620\n",
       "2012-12-26   0.78680\n",
       "2012-12-27   0.78340\n",
       "2012-12-28   0.78250\n",
       "2012-12-31   0.78540\n",
       "\n",
       "[775 rows x 1 columns]"
      ]
     },
     "execution_count": 23,
     "metadata": {},
     "output_type": "execute_result"
    }
   ],
   "source": [
    "raw = raw.loc[\"2010-01-10\":\"2012-12-31\"].copy()\n",
    "raw"
   ]
  },
  {
   "cell_type": "code",
   "execution_count": 24,
   "id": "96f8ae18-406a-44f7-a926-4e96103edf2e",
   "metadata": {
    "tags": []
   },
   "outputs": [
    {
     "data": {
      "text/html": [
       "<div>\n",
       "<style scoped>\n",
       "    .dataframe tbody tr th:only-of-type {\n",
       "        vertical-align: middle;\n",
       "    }\n",
       "\n",
       "    .dataframe tbody tr th {\n",
       "        vertical-align: top;\n",
       "    }\n",
       "\n",
       "    .dataframe thead th {\n",
       "        text-align: right;\n",
       "    }\n",
       "</style>\n",
       "<table border=\"1\" class=\"dataframe\">\n",
       "  <thead>\n",
       "    <tr style=\"text-align: right;\">\n",
       "      <th></th>\n",
       "      <th>price</th>\n",
       "    </tr>\n",
       "    <tr>\n",
       "      <th>Date</th>\n",
       "      <th></th>\n",
       "    </tr>\n",
       "  </thead>\n",
       "  <tbody>\n",
       "    <tr>\n",
       "      <th>2010-01-11</th>\n",
       "      <td>0.64060</td>\n",
       "    </tr>\n",
       "    <tr>\n",
       "      <th>2010-01-12</th>\n",
       "      <td>0.63550</td>\n",
       "    </tr>\n",
       "    <tr>\n",
       "      <th>2010-01-13</th>\n",
       "      <td>0.63600</td>\n",
       "    </tr>\n",
       "    <tr>\n",
       "      <th>2010-01-14</th>\n",
       "      <td>0.64190</td>\n",
       "    </tr>\n",
       "    <tr>\n",
       "      <th>2010-01-15</th>\n",
       "      <td>0.64098</td>\n",
       "    </tr>\n",
       "    <tr>\n",
       "      <th>...</th>\n",
       "      <td>...</td>\n",
       "    </tr>\n",
       "    <tr>\n",
       "      <th>2012-12-25</th>\n",
       "      <td>0.78620</td>\n",
       "    </tr>\n",
       "    <tr>\n",
       "      <th>2012-12-26</th>\n",
       "      <td>0.78680</td>\n",
       "    </tr>\n",
       "    <tr>\n",
       "      <th>2012-12-27</th>\n",
       "      <td>0.78340</td>\n",
       "    </tr>\n",
       "    <tr>\n",
       "      <th>2012-12-28</th>\n",
       "      <td>0.78250</td>\n",
       "    </tr>\n",
       "    <tr>\n",
       "      <th>2012-12-31</th>\n",
       "      <td>0.78540</td>\n",
       "    </tr>\n",
       "  </tbody>\n",
       "</table>\n",
       "<p>775 rows × 1 columns</p>\n",
       "</div>"
      ],
      "text/plain": [
       "              price\n",
       "Date               \n",
       "2010-01-11  0.64060\n",
       "2010-01-12  0.63550\n",
       "2010-01-13  0.63600\n",
       "2010-01-14  0.64190\n",
       "2010-01-15  0.64098\n",
       "...             ...\n",
       "2012-12-25  0.78620\n",
       "2012-12-26  0.78680\n",
       "2012-12-27  0.78340\n",
       "2012-12-28  0.78250\n",
       "2012-12-31  0.78540\n",
       "\n",
       "[775 rows x 1 columns]"
      ]
     },
     "execution_count": 24,
     "metadata": {},
     "output_type": "execute_result"
    }
   ],
   "source": [
    "raw.rename(columns={\"AUDEUR=X\":\"price\"}, inplace=True) # clean up\n",
    "raw"
   ]
  },
  {
   "cell_type": "code",
   "execution_count": 25,
   "id": "83c642e4-acb8-4218-826b-6dccdf1f47e3",
   "metadata": {
    "tags": []
   },
   "outputs": [],
   "source": [
    "raw[\"returns\"] = np.log(raw / raw.shift(1)) # calculate log returns"
   ]
  },
  {
   "cell_type": "code",
   "execution_count": 28,
   "id": "26dc6c1c-b445-4f65-9a4e-e0895c59a7e8",
   "metadata": {
    "tags": []
   },
   "outputs": [],
   "source": [
    "raw[\"SMA_S\"] = raw[\"price\"].rolling(50).mean() # add short sma\n",
    "raw[\"SMA_L\"] = raw[\"price\"].rolling(200).mean() # add long sma"
   ]
  },
  {
   "cell_type": "code",
   "execution_count": 29,
   "id": "8e00a4ad-0c18-4330-80ed-e818e1c0977d",
   "metadata": {
    "tags": []
   },
   "outputs": [
    {
     "data": {
      "text/html": [
       "<div>\n",
       "<style scoped>\n",
       "    .dataframe tbody tr th:only-of-type {\n",
       "        vertical-align: middle;\n",
       "    }\n",
       "\n",
       "    .dataframe tbody tr th {\n",
       "        vertical-align: top;\n",
       "    }\n",
       "\n",
       "    .dataframe thead th {\n",
       "        text-align: right;\n",
       "    }\n",
       "</style>\n",
       "<table border=\"1\" class=\"dataframe\">\n",
       "  <thead>\n",
       "    <tr style=\"text-align: right;\">\n",
       "      <th></th>\n",
       "      <th>price</th>\n",
       "      <th>returns</th>\n",
       "      <th>SMA_S</th>\n",
       "      <th>SMA_L</th>\n",
       "    </tr>\n",
       "    <tr>\n",
       "      <th>Date</th>\n",
       "      <th></th>\n",
       "      <th></th>\n",
       "      <th></th>\n",
       "      <th></th>\n",
       "    </tr>\n",
       "  </thead>\n",
       "  <tbody>\n",
       "    <tr>\n",
       "      <th>2010-01-11</th>\n",
       "      <td>0.64060</td>\n",
       "      <td>NaN</td>\n",
       "      <td>NaN</td>\n",
       "      <td>NaN</td>\n",
       "    </tr>\n",
       "    <tr>\n",
       "      <th>2010-01-12</th>\n",
       "      <td>0.63550</td>\n",
       "      <td>-0.007993</td>\n",
       "      <td>NaN</td>\n",
       "      <td>NaN</td>\n",
       "    </tr>\n",
       "    <tr>\n",
       "      <th>2010-01-13</th>\n",
       "      <td>0.63600</td>\n",
       "      <td>0.000786</td>\n",
       "      <td>NaN</td>\n",
       "      <td>NaN</td>\n",
       "    </tr>\n",
       "    <tr>\n",
       "      <th>2010-01-14</th>\n",
       "      <td>0.64190</td>\n",
       "      <td>0.009234</td>\n",
       "      <td>NaN</td>\n",
       "      <td>NaN</td>\n",
       "    </tr>\n",
       "    <tr>\n",
       "      <th>2010-01-15</th>\n",
       "      <td>0.64098</td>\n",
       "      <td>-0.001434</td>\n",
       "      <td>NaN</td>\n",
       "      <td>NaN</td>\n",
       "    </tr>\n",
       "    <tr>\n",
       "      <th>...</th>\n",
       "      <td>...</td>\n",
       "      <td>...</td>\n",
       "      <td>...</td>\n",
       "      <td>...</td>\n",
       "    </tr>\n",
       "    <tr>\n",
       "      <th>2012-12-25</th>\n",
       "      <td>0.78620</td>\n",
       "      <td>-0.002921</td>\n",
       "      <td>0.803610</td>\n",
       "      <td>0.805435</td>\n",
       "    </tr>\n",
       "    <tr>\n",
       "      <th>2012-12-26</th>\n",
       "      <td>0.78680</td>\n",
       "      <td>0.000763</td>\n",
       "      <td>0.803618</td>\n",
       "      <td>0.805410</td>\n",
       "    </tr>\n",
       "    <tr>\n",
       "      <th>2012-12-27</th>\n",
       "      <td>0.78340</td>\n",
       "      <td>-0.004331</td>\n",
       "      <td>0.803462</td>\n",
       "      <td>0.805372</td>\n",
       "    </tr>\n",
       "    <tr>\n",
       "      <th>2012-12-28</th>\n",
       "      <td>0.78250</td>\n",
       "      <td>-0.001149</td>\n",
       "      <td>0.803238</td>\n",
       "      <td>0.805347</td>\n",
       "    </tr>\n",
       "    <tr>\n",
       "      <th>2012-12-31</th>\n",
       "      <td>0.78540</td>\n",
       "      <td>0.003699</td>\n",
       "      <td>0.803118</td>\n",
       "      <td>0.805327</td>\n",
       "    </tr>\n",
       "  </tbody>\n",
       "</table>\n",
       "<p>775 rows × 4 columns</p>\n",
       "</div>"
      ],
      "text/plain": [
       "              price   returns     SMA_S     SMA_L\n",
       "Date                                             \n",
       "2010-01-11  0.64060       NaN       NaN       NaN\n",
       "2010-01-12  0.63550 -0.007993       NaN       NaN\n",
       "2010-01-13  0.63600  0.000786       NaN       NaN\n",
       "2010-01-14  0.64190  0.009234       NaN       NaN\n",
       "2010-01-15  0.64098 -0.001434       NaN       NaN\n",
       "...             ...       ...       ...       ...\n",
       "2012-12-25  0.78620 -0.002921  0.803610  0.805435\n",
       "2012-12-26  0.78680  0.000763  0.803618  0.805410\n",
       "2012-12-27  0.78340 -0.004331  0.803462  0.805372\n",
       "2012-12-28  0.78250 -0.001149  0.803238  0.805347\n",
       "2012-12-31  0.78540  0.003699  0.803118  0.805327\n",
       "\n",
       "[775 rows x 4 columns]"
      ]
     },
     "execution_count": 29,
     "metadata": {},
     "output_type": "execute_result"
    }
   ],
   "source": [
    "raw"
   ]
  },
  {
   "cell_type": "code",
   "execution_count": null,
   "id": "e950fc0d-04ea-424b-b752-03574c1da95d",
   "metadata": {},
   "outputs": [],
   "source": []
  },
  {
   "cell_type": "markdown",
   "id": "f07838c7-8c6a-4fe4-a938-311e491d8451",
   "metadata": {},
   "source": [
    "## Setting new SMA Parameters"
   ]
  },
  {
   "cell_type": "code",
   "execution_count": 44,
   "id": "c16f63e2-e4be-45be-8a1c-d3974381f3a7",
   "metadata": {
    "tags": []
   },
   "outputs": [
    {
     "data": {
      "text/plain": [
       "30"
      ]
     },
     "execution_count": 44,
     "metadata": {},
     "output_type": "execute_result"
    }
   ],
   "source": [
    "tester.SMA_S"
   ]
  },
  {
   "cell_type": "code",
   "execution_count": 42,
   "id": "f13f847e-2ea8-4498-b2af-10f3c9a4bf25",
   "metadata": {
    "tags": []
   },
   "outputs": [
    {
     "data": {
      "text/plain": [
       "250"
      ]
     },
     "execution_count": 42,
     "metadata": {},
     "output_type": "execute_result"
    }
   ],
   "source": [
    "tester.SMA_L"
   ]
  },
  {
   "cell_type": "code",
   "execution_count": 41,
   "id": "12e00497-2203-48fb-bdc7-9b0120b724d4",
   "metadata": {
    "tags": []
   },
   "outputs": [],
   "source": [
    "tester.SMA_L = 250"
   ]
  },
  {
   "cell_type": "code",
   "execution_count": 43,
   "id": "4d5f3d5c-0533-42f4-8575-04ce67c71099",
   "metadata": {
    "tags": []
   },
   "outputs": [],
   "source": [
    "tester.SMA_S = 30"
   ]
  },
  {
   "cell_type": "code",
   "execution_count": 45,
   "id": "38f35e28-a120-4c66-8156-fc6f804c2568",
   "metadata": {
    "tags": []
   },
   "outputs": [
    {
     "data": {
      "text/plain": [
       "price        0\n",
       "returns      1\n",
       "SMA_S       49\n",
       "SMA_L      199\n",
       "dtype: int64"
      ]
     },
     "execution_count": 45,
     "metadata": {},
     "output_type": "execute_result"
    }
   ],
   "source": [
    "tester.data.isna().sum()"
   ]
  },
  {
   "cell_type": "code",
   "execution_count": null,
   "id": "81876d61-187d-4b64-a0f0-1d209da55fad",
   "metadata": {},
   "outputs": [],
   "source": []
  },
  {
   "cell_type": "markdown",
   "id": "e3326f12-e81e-46ba-a3f2-fae594c22266",
   "metadata": {},
   "source": [
    "## TEsting a Strategy"
   ]
  },
  {
   "cell_type": "markdown",
   "id": "c3490fa2-aa1e-41af-a6af-089c39a016ac",
   "metadata": {},
   "source": [
    "## Plottting the results"
   ]
  },
  {
   "cell_type": "markdown",
   "id": "e3fba640-3fdd-42b6-98f9-d3687ac60bd0",
   "metadata": {
    "tags": []
   },
   "source": [
    "## Strategy Optimization"
   ]
  },
  {
   "cell_type": "code",
   "execution_count": null,
   "id": "a78520d4-794c-4d84-8c38-98dd721fbcd5",
   "metadata": {},
   "outputs": [],
   "source": []
  }
 ],
 "metadata": {
  "kernelspec": {
   "display_name": "Python 3 (ipykernel)",
   "language": "python",
   "name": "python3"
  },
  "language_info": {
   "codemirror_mode": {
    "name": "ipython",
    "version": 3
   },
   "file_extension": ".py",
   "mimetype": "text/x-python",
   "name": "python",
   "nbconvert_exporter": "python",
   "pygments_lexer": "ipython3",
   "version": "3.11.4"
  },
  "widgets": {
   "application/vnd.jupyter.widget-state+json": {
    "state": {},
    "version_major": 2,
    "version_minor": 0
   }
  }
 },
 "nbformat": 4,
 "nbformat_minor": 5
}
