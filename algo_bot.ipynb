{
 "cells": [
  {
   "cell_type": "code",
   "execution_count": 1,
   "id": "faa3a59a-a02d-4b1b-b499-3b915b56d59d",
   "metadata": {
    "tags": []
   },
   "outputs": [],
   "source": [
    "from ib_insync import *\n",
    "util.startLoop()"
   ]
  },
  {
   "cell_type": "code",
   "execution_count": 2,
   "id": "bb9c6847-9f6b-4a59-89a6-a7b2783a5cdd",
   "metadata": {},
   "outputs": [],
   "source": [
    "ib = IB()"
   ]
  },
  {
   "cell_type": "code",
   "execution_count": 3,
   "id": "11a26268-2ce4-4694-9dd6-230620a31c87",
   "metadata": {
    "tags": []
   },
   "outputs": [
    {
     "data": {
      "text/plain": [
       "<IB connected to 127.0.0.1:7497 clientId=1>"
      ]
     },
     "execution_count": 3,
     "metadata": {},
     "output_type": "execute_result"
    }
   ],
   "source": [
    "ib.connect()"
   ]
  },
  {
   "cell_type": "code",
   "execution_count": 4,
   "id": "b34a0e7d-37c4-4e95-8284-2d6dd950d0da",
   "metadata": {
    "tags": []
   },
   "outputs": [
    {
     "data": {
      "text/plain": [
       "Forex('EurUSD', exchange='IDEALPRO')"
      ]
     },
     "execution_count": 4,
     "metadata": {},
     "output_type": "execute_result"
    }
   ],
   "source": [
    "contract = Forex(\"EurUSD\")\n",
    "contract"
   ]
  },
  {
   "cell_type": "code",
   "execution_count": 5,
   "id": "e47852bf-36ed-43d2-af63-b25e160f7ae9",
   "metadata": {
    "tags": []
   },
   "outputs": [
    {
     "data": {
      "text/plain": [
       "Forex('EURUSD', conId=12087792, exchange='IDEALPRO', localSymbol='EUR.USD', tradingClass='EUR.USD')"
      ]
     },
     "execution_count": 5,
     "metadata": {},
     "output_type": "execute_result"
    }
   ],
   "source": [
    "contract = ib.qualifyContracts(contract)\n",
    "contract[0]"
   ]
  },
  {
   "cell_type": "code",
   "execution_count": 6,
   "id": "8d60e6ee-8c13-449e-b7d3-12291fba2b8e",
   "metadata": {
    "tags": []
   },
   "outputs": [],
   "source": [
    "ib.disconnect()"
   ]
  },
  {
   "cell_type": "markdown",
   "id": "5da0d604-492d-4312-8483-6d45cff728c5",
   "metadata": {},
   "source": [
    "## Current Market Data"
   ]
  },
  {
   "cell_type": "code",
   "execution_count": 7,
   "id": "dc7b9435-c9f6-494f-b5e1-d658d965a7d2",
   "metadata": {
    "tags": []
   },
   "outputs": [],
   "source": [
    "import pandas as pd\n",
    "from ib_insync import *\n",
    "util.startLoop()"
   ]
  },
  {
   "cell_type": "code",
   "execution_count": 8,
   "id": "8d21075b-b521-407c-873b-5f9e63befe4a",
   "metadata": {
    "tags": []
   },
   "outputs": [],
   "source": [
    "ib = IB()"
   ]
  },
  {
   "cell_type": "code",
   "execution_count": 9,
   "id": "db7fb588-14e9-4099-b31a-7273e0bd7400",
   "metadata": {
    "tags": []
   },
   "outputs": [
    {
     "data": {
      "text/plain": [
       "<IB connected to 127.0.0.1:7497 clientId=1>"
      ]
     },
     "execution_count": 9,
     "metadata": {},
     "output_type": "execute_result"
    }
   ],
   "source": [
    "ib.connect()"
   ]
  },
  {
   "cell_type": "code",
   "execution_count": 10,
   "id": "eab86b50-3226-4438-9ff3-534bd12909c4",
   "metadata": {
    "tags": []
   },
   "outputs": [
    {
     "data": {
      "text/plain": [
       "Forex('EURUSD', exchange='IDEALPRO')"
      ]
     },
     "execution_count": 10,
     "metadata": {},
     "output_type": "execute_result"
    }
   ],
   "source": [
    "contract = Forex(\"EURUSD\")\n",
    "contract"
   ]
  },
  {
   "cell_type": "code",
   "execution_count": 11,
   "id": "5aa44e62-4295-4354-af6f-14514948ce39",
   "metadata": {
    "tags": []
   },
   "outputs": [],
   "source": [
    "data1 = ib.reqMktData(contract)"
   ]
  },
  {
   "cell_type": "code",
   "execution_count": 12,
   "id": "cefc1c21-24ad-4079-9644-5d14eac187b8",
   "metadata": {
    "tags": []
   },
   "outputs": [
    {
     "data": {
      "text/plain": [
       "Ticker(contract=Forex('EURUSD', exchange='IDEALPRO'), time=datetime.datetime(2024, 5, 30, 22, 12, 36, 399699, tzinfo=datetime.timezone.utc), minTick=1e-05, bid=1.08334, bidSize=4000000.0, ask=1.08338, askSize=5000000.0, prevBidSize=5000000.0, prevAsk=1.08337, prevAskSize=4000000.0, high=1.0835, low=1.0831, close=1.0832, halted=0.0, ticks=[TickData(time=datetime.datetime(2024, 5, 30, 22, 12, 36, 399699, tzinfo=datetime.timezone.utc), tickType=3, price=1.08338, size=5000000.0)])"
      ]
     },
     "execution_count": 12,
     "metadata": {},
     "output_type": "execute_result"
    }
   ],
   "source": [
    "data1"
   ]
  },
  {
   "cell_type": "code",
   "execution_count": 15,
   "id": "0f815162-97cd-42fd-9437-36f8aaf3d9f7",
   "metadata": {
    "tags": []
   },
   "outputs": [
    {
     "data": {
      "text/plain": [
       "1.0833599999999999"
      ]
     },
     "execution_count": 15,
     "metadata": {},
     "output_type": "execute_result"
    }
   ],
   "source": [
    "data1.marketPrice()"
   ]
  },
  {
   "cell_type": "code",
   "execution_count": 19,
   "id": "c6f447bd-7fd5-4d67-8002-17cf507d9720",
   "metadata": {
    "tags": []
   },
   "outputs": [
    {
     "data": {
      "text/plain": [
       "1.08337"
      ]
     },
     "execution_count": 19,
     "metadata": {},
     "output_type": "execute_result"
    }
   ],
   "source": [
    "data1.ask"
   ]
  },
  {
   "cell_type": "code",
   "execution_count": 20,
   "id": "6e4c4021-c7ae-4688-a573-16c82845436a",
   "metadata": {
    "tags": []
   },
   "outputs": [
    {
     "name": "stderr",
     "output_type": "stream",
     "text": [
      "Exception in callback BaseSelectorEventLoop._read_from_self()\n",
      "handle: <Handle BaseSelectorEventLoop._read_from_self()>\n",
      "Traceback (most recent call last):\n",
      "  File \"C:\\ProgramData\\anaconda3\\envs\\ml_dev\\lib\\asyncio\\events.py\", line 80, in _run\n",
      "    self._context.run(self._callback, *self._args)\n",
      "  File \"C:\\ProgramData\\anaconda3\\envs\\ml_dev\\lib\\asyncio\\selector_events.py\", line 115, in _read_from_self\n",
      "    data = self._ssock.recv(4096)\n",
      "ConnectionResetError: [WinError 10054] An existing connection was forcibly closed by the remote host\n",
      "Exception in callback BaseSelectorEventLoop._read_from_self()\n",
      "handle: <Handle BaseSelectorEventLoop._read_from_self()>\n",
      "Traceback (most recent call last):\n",
      "  File \"C:\\ProgramData\\anaconda3\\envs\\ml_dev\\lib\\asyncio\\events.py\", line 80, in _run\n",
      "    self._context.run(self._callback, *self._args)\n",
      "  File \"C:\\ProgramData\\anaconda3\\envs\\ml_dev\\lib\\asyncio\\selector_events.py\", line 115, in _read_from_self\n",
      "    data = self._ssock.recv(4096)\n",
      "ConnectionResetError: [WinError 10054] An existing connection was forcibly closed by the remote host\n",
      "Exception in callback BaseSelectorEventLoop._read_from_self()\n",
      "handle: <Handle BaseSelectorEventLoop._read_from_self()>\n",
      "Traceback (most recent call last):\n",
      "  File \"C:\\ProgramData\\anaconda3\\envs\\ml_dev\\lib\\asyncio\\events.py\", line 80, in _run\n",
      "    self._context.run(self._callback, *self._args)\n",
      "  File \"C:\\ProgramData\\anaconda3\\envs\\ml_dev\\lib\\asyncio\\selector_events.py\", line 115, in _read_from_self\n",
      "    data = self._ssock.recv(4096)\n",
      "ConnectionResetError: [WinError 10054] An existing connection was forcibly closed by the remote host\n",
      "Exception in callback BaseSelectorEventLoop._read_from_self()\n",
      "handle: <Handle BaseSelectorEventLoop._read_from_self()>\n",
      "Traceback (most recent call last):\n",
      "  File \"C:\\ProgramData\\anaconda3\\envs\\ml_dev\\lib\\asyncio\\events.py\", line 80, in _run\n",
      "    self._context.run(self._callback, *self._args)\n",
      "  File \"C:\\ProgramData\\anaconda3\\envs\\ml_dev\\lib\\asyncio\\selector_events.py\", line 115, in _read_from_self\n",
      "    data = self._ssock.recv(4096)\n",
      "ConnectionResetError: [WinError 10054] An existing connection was forcibly closed by the remote host\n"
     ]
    }
   ],
   "source": [
    "ib.disconnect()"
   ]
  },
  {
   "cell_type": "markdown",
   "id": "eb82d755-74e6-4043-82eb-f0dad09d6be1",
   "metadata": {},
   "source": [
    "## Contracts Advanced"
   ]
  },
  {
   "cell_type": "code",
   "execution_count": 1,
   "id": "18e7dc49-2ce5-439e-b5a8-8f06bd5a318a",
   "metadata": {
    "tags": []
   },
   "outputs": [],
   "source": [
    "from ib_insync import *\n",
    "util.startLoop()"
   ]
  },
  {
   "cell_type": "code",
   "execution_count": 2,
   "id": "2e2b8653-e2f4-47a3-8f23-f07faab7dc49",
   "metadata": {
    "tags": []
   },
   "outputs": [],
   "source": [
    "ib = IB()"
   ]
  },
  {
   "cell_type": "code",
   "execution_count": 3,
   "id": "c0a4f3b1-4a3d-4d6b-80f3-9e23fa01fff9",
   "metadata": {
    "tags": []
   },
   "outputs": [
    {
     "data": {
      "text/plain": [
       "<IB connected to 127.0.0.1:7497 clientId=1>"
      ]
     },
     "execution_count": 3,
     "metadata": {},
     "output_type": "execute_result"
    }
   ],
   "source": [
    "ib.connect()"
   ]
  },
  {
   "cell_type": "markdown",
   "id": "d01b2f94-8f5c-4614-b6e9-0d4477ec50ba",
   "metadata": {},
   "source": [
    "**Case 1: unambiguous (one contract exist)**"
   ]
  },
  {
   "cell_type": "code",
   "execution_count": 4,
   "id": "4a7c8dbc-6d5f-4fd7-9daa-ce4a1d84bb7f",
   "metadata": {
    "tags": []
   },
   "outputs": [
    {
     "data": {
      "text/plain": [
       "Stock(symbol='AAPL', exchange='SMART', currency='USD')"
      ]
     },
     "execution_count": 4,
     "metadata": {},
     "output_type": "execute_result"
    }
   ],
   "source": [
    "contract = Stock(\"AAPL\", \"SMART\", \"USD\")\n",
    "contract"
   ]
  },
  {
   "cell_type": "code",
   "execution_count": 5,
   "id": "a7f1436f-12d5-4410-b561-fd270e7e2b16",
   "metadata": {
    "tags": []
   },
   "outputs": [
    {
     "data": {
      "text/plain": [
       "[ContractDetails(contract=Contract(secType='STK', conId=265598, symbol='AAPL', exchange='SMART', primaryExchange='NASDAQ', currency='USD', localSymbol='AAPL', tradingClass='NMS'), marketName='NMS', minTick=0.01, orderTypes='ACTIVETIM,AD,ADJUST,ALERT,ALGO,ALLOC,AON,AVGCOST,BASKET,BENCHPX,CASHQTY,COND,CONDORDER,DARKONLY,DARKPOLL,DAY,DEACT,DEACTDIS,DEACTEOD,DIS,DUR,GAT,GTC,GTD,GTT,HID,IBKRATS,ICE,IMB,IOC,LIT,LMT,LOC,MIDPX,MIT,MKT,MOC,MTL,NGCOMB,NODARK,NONALGO,OCA,OPG,OPGREROUT,PEGBENCH,PEGMID,POSTATS,POSTONLY,PREOPGRTH,PRICECHK,REL,REL2MID,RELPCTOFS,RPI,RTH,SCALE,SCALEODD,SCALERST,SIZECHK,SMARTSTG,SNAPMID,SNAPMKT,SNAPREL,STP,STPLMT,SWEEP,TRAIL,TRAILLIT,TRAILLMT,TRAILMIT,WHATIF', validExchanges='SMART,AMEX,NYSE,CBOE,PHLX,ISE,CHX,ARCA,NASDAQ,DRCTEDGE,BEX,BATS,EDGEA,BYX,IEX,EDGX,FOXRIVER,PEARL,NYSENAT,LTSE,MEMX,IBEOS,OVERNIGHT,TPLUS0,PSX', priceMagnifier=1, underConId=0, longName='APPLE INC', contractMonth='', industry='Technology', category='Computers', subcategory='Computers', timeZoneId='US/Eastern', tradingHours='20240531:0400-20240531:2000;20240601:CLOSED;20240602:CLOSED;20240603:0400-20240603:2000;20240604:0400-20240604:2000;20240605:0400-20240605:2000', liquidHours='20240531:0930-20240531:1600;20240601:CLOSED;20240602:CLOSED;20240603:0930-20240603:1600;20240604:0930-20240604:1600;20240605:0930-20240605:1600', evRule='', evMultiplier=0, mdSizeMultiplier=1, aggGroup=1, underSymbol='', underSecType='', marketRuleIds='26,26,26,26,26,26,26,26,26,26,26,26,26,26,26,26,26,26,26,26,26,26,26,26,26', secIdList=[TagValue(tag='ISIN', value='US0378331005')], realExpirationDate='', lastTradeTime='', stockType='COMMON', minSize=0.0001, sizeIncrement=0.0001, suggestedSizeIncrement=100.0, cusip='', ratings='', descAppend='', bondType='', couponType='', callable=False, putable=False, coupon=0, convertible=False, maturity='', issueDate='', nextOptionDate='', nextOptionType='', nextOptionPartial=False, notes='')]"
      ]
     },
     "execution_count": 5,
     "metadata": {},
     "output_type": "execute_result"
    }
   ],
   "source": [
    "cds = ib.reqContractDetails(contract)\n",
    "cds"
   ]
  },
  {
   "cell_type": "markdown",
   "id": "ce8d2a3d-b02b-42cd-b57a-fc3d0a2105be",
   "metadata": {},
   "source": [
    "**Case 2: unknown**\n",
    "\n",
    "A case of an unknown symbol returns a 200 error of \"No security definition found\""
   ]
  },
  {
   "cell_type": "markdown",
   "id": "11d25ea1-fbae-4a59-8f87-2a2a1aadd086",
   "metadata": {},
   "source": [
    "**Case 3: Ambiguous Multiple Contracts**\n",
    "\n",
    "Case of returnig multiple contract under a specified instrument"
   ]
  },
  {
   "cell_type": "code",
   "execution_count": 6,
   "id": "67a8f011-8d9b-44cb-87c3-508c538b2bda",
   "metadata": {
    "tags": []
   },
   "outputs": [
    {
     "data": {
      "text/plain": [
       "Stock(symbol='AAPL')"
      ]
     },
     "execution_count": 6,
     "metadata": {},
     "output_type": "execute_result"
    }
   ],
   "source": [
    "contract = Stock(\"AAPL\")\n",
    "contract"
   ]
  },
  {
   "cell_type": "code",
   "execution_count": 7,
   "id": "9ed5505c-a9c0-42ee-ab74-3156f404254e",
   "metadata": {
    "tags": []
   },
   "outputs": [
    {
     "data": {
      "text/plain": [
       "[ContractDetails(contract=Contract(secType='STK', conId=265598, symbol='AAPL', exchange='SMART', primaryExchange='NASDAQ', currency='USD', localSymbol='AAPL', tradingClass='NMS'), marketName='NMS', minTick=0.01, orderTypes='ACTIVETIM,AD,ADJUST,ALERT,ALGO,ALLOC,AON,AVGCOST,BASKET,BENCHPX,CASHQTY,COND,CONDORDER,DARKONLY,DARKPOLL,DAY,DEACT,DEACTDIS,DEACTEOD,DIS,DUR,GAT,GTC,GTD,GTT,HID,IBKRATS,ICE,IMB,IOC,LIT,LMT,LOC,MIDPX,MIT,MKT,MOC,MTL,NGCOMB,NODARK,NONALGO,OCA,OPG,OPGREROUT,PEGBENCH,PEGMID,POSTATS,POSTONLY,PREOPGRTH,PRICECHK,REL,REL2MID,RELPCTOFS,RPI,RTH,SCALE,SCALEODD,SCALERST,SIZECHK,SMARTSTG,SNAPMID,SNAPMKT,SNAPREL,STP,STPLMT,SWEEP,TRAIL,TRAILLIT,TRAILLMT,TRAILMIT,WHATIF', validExchanges='SMART,AMEX,NYSE,CBOE,PHLX,ISE,CHX,ARCA,NASDAQ,DRCTEDGE,BEX,BATS,EDGEA,BYX,IEX,EDGX,FOXRIVER,PEARL,NYSENAT,LTSE,MEMX,IBEOS,OVERNIGHT,TPLUS0,PSX', priceMagnifier=1, underConId=0, longName='APPLE INC', contractMonth='', industry='Technology', category='Computers', subcategory='Computers', timeZoneId='US/Eastern', tradingHours='20240531:0400-20240531:2000;20240601:CLOSED;20240602:CLOSED;20240603:0400-20240603:2000;20240604:0400-20240604:2000;20240605:0400-20240605:2000', liquidHours='20240531:0930-20240531:1600;20240601:CLOSED;20240602:CLOSED;20240603:0930-20240603:1600;20240604:0930-20240604:1600;20240605:0930-20240605:1600', evRule='', evMultiplier=0, mdSizeMultiplier=1, aggGroup=1, underSymbol='', underSecType='', marketRuleIds='26,26,26,26,26,26,26,26,26,26,26,26,26,26,26,26,26,26,26,26,26,26,26,26,26', secIdList=[TagValue(tag='ISIN', value='US0378331005')], realExpirationDate='', lastTradeTime='', stockType='COMMON', minSize=0.0001, sizeIncrement=0.0001, suggestedSizeIncrement=100.0, cusip='', ratings='', descAppend='', bondType='', couponType='', callable=False, putable=False, coupon=0, convertible=False, maturity='', issueDate='', nextOptionDate='', nextOptionType='', nextOptionPartial=False, notes=''),\n",
       " ContractDetails(contract=Contract(secType='STK', conId=273982664, symbol='AAPL', exchange='SMART', primaryExchange='EBS', currency='CHF', localSymbol='AAPL', tradingClass='AAPL'), marketName='AAPL', minTick=0.001, orderTypes='ACTIVETIM,AD,ADJUST,ALERT,ALGO,ALGOLTH,ALLOC,AVGCOST,BASKET,BENCHPX,CASHQTY,COND,CONDORDER,DAY,DEACT,DEACTDIS,DEACTEOD,GAT,GTC,GTD,GTT,HID,IOC,LIT,LMT,LOC,MIT,MKT,MKT2BBO,MOC,MTL,NGCOMB,NODARK,NONALGO,OCA,OPG,PEGBENCH,REL,RELPCTOFS,RTH,RTH4MKT,SCALE,SCALERST,SIZECHK,SNAPMID,SNAPMKT,SNAPREL,STP,STPLMT,TRAIL,TRAILLIT,TRAILLMT,TRAILMIT,WHATIF', validExchanges='SMART,EBS', priceMagnifier=1, underConId=0, longName='APPLE INC', contractMonth='', industry='Technology', category='Computers', subcategory='Computers', timeZoneId='MET', tradingHours='20240531:0900-20240531:1732;20240601:CLOSED;20240602:CLOSED;20240603:0900-20240603:1732;20240604:0900-20240604:1732;20240605:0900-20240605:1732', liquidHours='20240531:0900-20240531:1732;20240601:CLOSED;20240602:CLOSED;20240603:0900-20240603:1732;20240604:0900-20240604:1732;20240605:0900-20240605:1732', evRule='', evMultiplier=0, mdSizeMultiplier=1, aggGroup=6, underSymbol='', underSecType='', marketRuleIds='579,579', secIdList=[TagValue(tag='ISIN', value='US0378331005')], realExpirationDate='', lastTradeTime='', stockType='COMMON', minSize=1.0, sizeIncrement=1.0, suggestedSizeIncrement=1.0, cusip='', ratings='', descAppend='', bondType='', couponType='', callable=False, putable=False, coupon=0, convertible=False, maturity='', issueDate='', nextOptionDate='', nextOptionType='', nextOptionPartial=False, notes=''),\n",
       " ContractDetails(contract=Contract(secType='STK', conId=493546048, symbol='AAPL', exchange='SMART', primaryExchange='LSEETF', currency='GBP', localSymbol='AAPL', tradingClass='ECE2'), marketName='ECE2', minTick=0.0005, orderTypes='ACTIVETIM,AD,ADJUST,ALERT,ALGO,ALGOLTH,ALLOC,AUC,AVGCOST,BASKET,BENCHPX,CASHQTY,COND,CONDORDER,DAY,DEACT,DEACTDIS,DEACTEOD,GAT,GTC,GTD,GTT,HID,IOC,LIT,LMT,LOC,MIT,MKT,MKT2BBO,MTL,NGCOMB,NODARK,NONALGO,OCA,PEGBENCH,RTH,RTH4MKT,SCALE,SCALERST,SIZECHK,SNAPMID,SNAPMKT,SNAPREL,STP,STPLMT,TRAIL,TRAILLIT,TRAILLMT,TRAILMIT,WHATIF', validExchanges='SMART,LSEETF', priceMagnifier=100, underConId=0, longName='LS 1X AAPL', contractMonth='', industry='', category='', subcategory='', timeZoneId='MET', tradingHours='20240531:0900-20240531:1750;20240601:CLOSED;20240602:CLOSED;20240603:0900-20240603:1750;20240604:0900-20240604:1750;20240605:0900-20240605:1750', liquidHours='20240531:0900-20240531:1750;20240601:CLOSED;20240602:CLOSED;20240603:0900-20240603:1750;20240604:0900-20240604:1750;20240605:0900-20240605:1750', evRule='', evMultiplier=0, mdSizeMultiplier=1, aggGroup=3, underSymbol='', underSecType='', marketRuleIds='532,532', secIdList=[TagValue(tag='ISIN', value='XS2337099563')], realExpirationDate='', lastTradeTime='', stockType='ETC', minSize=1.0, sizeIncrement=1.0, suggestedSizeIncrement=1.0, cusip='', ratings='', descAppend='', bondType='', couponType='', callable=False, putable=False, coupon=0, convertible=False, maturity='', issueDate='', nextOptionDate='', nextOptionType='', nextOptionPartial=False, notes=''),\n",
       " ContractDetails(contract=Contract(secType='STK', conId=532640894, symbol='AAPL', exchange='SMART', primaryExchange='AEQLIT', currency='CAD', localSymbol='AAPL', tradingClass='AAPL'), marketName='AAPL', minTick=0.005, orderTypes='ACTIVETIM,AD,ADJUST,ALERT,ALGO,ALLOC,AVGCOST,BASKET,BENCHPX,CASHQTY,COND,CONDORDER,DAY,DEACT,DEACTDIS,DEACTEOD,GAT,GTC,GTD,GTT,HID,ICE,LIT,LMT,LOC,MINLOT,MIT,MKT,MOC,MTL,NGCOMB,NONALGO,OCA,OPG,PEGBENCH,REL,RELPCTOFS,RTH,SCALE,SCALERST,SIZECHK,SMARTSTG,SMARTSTGA,SNAPMID,SNAPMKT,SNAPREL,STP,STPLMT,TRAIL,TRAILLIT,TRAILLMT,TRAILMIT,WHATIF', validExchanges='SMART', priceMagnifier=1, underConId=0, longName='APPLE INC-CDR', contractMonth='', industry='Technology', category='Computers', subcategory='Computers', timeZoneId='US/Eastern', tradingHours='20240531:0700-20240531:1700;20240601:CLOSED;20240602:CLOSED;20240603:0700-20240603:1700;20240604:0700-20240604:1700;20240605:0700-20240605:1700', liquidHours='20240531:0930-20240531:1600;20240601:CLOSED;20240602:CLOSED;20240603:0930-20240603:1600;20240604:0930-20240604:1600;20240605:0930-20240605:1600', evRule='', evMultiplier=0, mdSizeMultiplier=1, aggGroup=11, underSymbol='', underSecType='', marketRuleIds='3029', secIdList=[TagValue(tag='ISIN', value='CA03785Y1007')], realExpirationDate='', lastTradeTime='', stockType='CANADIAN DR', minSize=0.0001, sizeIncrement=0.0001, suggestedSizeIncrement=100.0, cusip='', ratings='', descAppend='', bondType='', couponType='', callable=False, putable=False, coupon=0, convertible=False, maturity='', issueDate='', nextOptionDate='', nextOptionType='', nextOptionPartial=False, notes=''),\n",
       " ContractDetails(contract=Contract(secType='STK', conId=265598, symbol='AAPL', exchange='AMEX', primaryExchange='NASDAQ', currency='USD', localSymbol='AAPL', tradingClass='NMS'), marketName='NMS', minTick=0.01, orderTypes='ACTIVETIM,AD,ADJUST,ALERT,ALLOC,AVGCOST,BASKET,BENCHPX,CASHQTY,COND,CONDORDER,DAY,DEACT,DEACTDIS,DEACTEOD,GAT,GTC,GTD,GTT,HID,IOC,LIT,LMT,MIT,MKT,MTL,NGCOMB,NONALGO,OCA,PEGBENCH,SCALE,SCALERST,SNAPMID,SNAPMKT,SNAPREL,STP,STPLMT,TRAIL,TRAILLIT,TRAILLMT,TRAILMIT,WHATIF', validExchanges='SMART,AMEX,NYSE,CBOE,PHLX,ISE,CHX,ARCA,NASDAQ,DRCTEDGE,BEX,BATS,EDGEA,BYX,IEX,EDGX,FOXRIVER,PEARL,NYSENAT,LTSE,MEMX,IBEOS,OVERNIGHT,TPLUS0,PSX', priceMagnifier=1, underConId=0, longName='APPLE INC', contractMonth='', industry='Technology', category='Computers', subcategory='Computers', timeZoneId='US/Eastern', tradingHours='20240531:0700-20240531:2000;20240601:CLOSED;20240602:CLOSED;20240603:0700-20240603:2000;20240604:0700-20240604:2000;20240605:0700-20240605:2000', liquidHours='20240531:0700-20240531:2000;20240601:CLOSED;20240602:CLOSED;20240603:0700-20240603:2000;20240604:0700-20240604:2000;20240605:0700-20240605:2000', evRule='', evMultiplier=0, mdSizeMultiplier=1, aggGroup=1, underSymbol='', underSecType='', marketRuleIds='26,26,26,26,26,26,26,26,26,26,26,26,26,26,26,26,26,26,26,26,26,26,26,26,26', secIdList=[TagValue(tag='ISIN', value='US0378331005')], realExpirationDate='', lastTradeTime='', stockType='COMMON', minSize=0.0001, sizeIncrement=0.0001, suggestedSizeIncrement=100.0, cusip='', ratings='', descAppend='', bondType='', couponType='', callable=False, putable=False, coupon=0, convertible=False, maturity='', issueDate='', nextOptionDate='', nextOptionType='', nextOptionPartial=False, notes=''),\n",
       " ContractDetails(contract=Contract(secType='STK', conId=265598, symbol='AAPL', exchange='NYSE', primaryExchange='NASDAQ', currency='USD', localSymbol='AAPL', tradingClass='NMS'), marketName='NMS', minTick=0.01, orderTypes='ACTIVETIM,AD,ADJUST,ALERT,ALLOC,AVGCOST,BASKET,BENCHPX,CASHQTY,COND,CONDORDER,DAY,DEACT,DEACTDIS,DEACTEOD,GAT,GTC,GTD,GTT,HID,IOC,LIT,LMT,MIT,MKT,MTL,NGCOMB,NONALGO,OCA,PEGBENCH,REL,RELPCTOFS,SCALE,SCALERST,SNAPMID,SNAPMKT,SNAPREL,STP,STPLMT,TRAIL,TRAILLIT,TRAILLMT,TRAILMIT,WHATIF', validExchanges='SMART,AMEX,NYSE,CBOE,PHLX,ISE,CHX,ARCA,NASDAQ,DRCTEDGE,BEX,BATS,EDGEA,BYX,IEX,EDGX,FOXRIVER,PEARL,NYSENAT,LTSE,MEMX,IBEOS,OVERNIGHT,TPLUS0,PSX', priceMagnifier=1, underConId=0, longName='APPLE INC', contractMonth='', industry='Technology', category='Computers', subcategory='Computers', timeZoneId='US/Eastern', tradingHours='20240531:0700-20240531:1600;20240601:CLOSED;20240602:CLOSED;20240603:0700-20240603:1600;20240604:0700-20240604:1600;20240605:0700-20240605:1600', liquidHours='20240531:0700-20240531:1600;20240601:CLOSED;20240602:CLOSED;20240603:0700-20240603:1600;20240604:0700-20240604:1600;20240605:0700-20240605:1600', evRule='', evMultiplier=0, mdSizeMultiplier=1, aggGroup=1, underSymbol='', underSecType='', marketRuleIds='26,26,26,26,26,26,26,26,26,26,26,26,26,26,26,26,26,26,26,26,26,26,26,26,26', secIdList=[TagValue(tag='ISIN', value='US0378331005')], realExpirationDate='', lastTradeTime='', stockType='COMMON', minSize=0.0001, sizeIncrement=0.0001, suggestedSizeIncrement=100.0, cusip='', ratings='', descAppend='', bondType='', couponType='', callable=False, putable=False, coupon=0, convertible=False, maturity='', issueDate='', nextOptionDate='', nextOptionType='', nextOptionPartial=False, notes=''),\n",
       " ContractDetails(contract=Contract(secType='STK', conId=265598, symbol='AAPL', exchange='CBOE', primaryExchange='NASDAQ', currency='USD', localSymbol='AAPL', tradingClass='NMS'), marketName='NMS', minTick=0.01, orderTypes='ACTIVETIM,AD,ADJUST,ALERT,ALLOC,AVGCOST,BASKET,BENCHPX,CASHQTY,COND,CONDORDER,DAY,DEACT,DEACTDIS,DEACTEOD,GAT,GTC,GTD,GTT,HID,LIT,LMT,MIT,MKT,MTL,NGCOMB,NONALGO,OCA,PEGBENCH,SCALE,SCALERST,SNAPMID,SNAPMKT,SNAPREL,STP,STPLMT,TRAIL,TRAILLIT,TRAILLMT,TRAILMIT,WHATIF', validExchanges='SMART,AMEX,NYSE,CBOE,PHLX,ISE,CHX,ARCA,NASDAQ,DRCTEDGE,BEX,BATS,EDGEA,BYX,IEX,EDGX,FOXRIVER,PEARL,NYSENAT,LTSE,MEMX,IBEOS,OVERNIGHT,TPLUS0,PSX', priceMagnifier=1, underConId=0, longName='APPLE INC', contractMonth='', industry='Technology', category='Computers', subcategory='Computers', timeZoneId='US/Central', tradingHours='20240531:0830-20240531:1500;20240601:CLOSED;20240602:CLOSED;20240603:0830-20240603:1500;20240604:0830-20240604:1500;20240605:0830-20240605:1500', liquidHours='20240531:0830-20240531:1500;20240601:CLOSED;20240602:CLOSED;20240603:0830-20240603:1500;20240604:0830-20240604:1500;20240605:0830-20240605:1500', evRule='', evMultiplier=0, mdSizeMultiplier=1, aggGroup=2147483647, underSymbol='', underSecType='', marketRuleIds='26,26,26,26,26,26,26,26,26,26,26,26,26,26,26,26,26,26,26,26,26,26,26,26,26', secIdList=[TagValue(tag='ISIN', value='US0378331005')], realExpirationDate='', lastTradeTime='', stockType='COMMON', minSize=0.0001, sizeIncrement=0.0001, suggestedSizeIncrement=100.0, cusip='', ratings='', descAppend='', bondType='', couponType='', callable=False, putable=False, coupon=0, convertible=False, maturity='', issueDate='', nextOptionDate='', nextOptionType='', nextOptionPartial=False, notes=''),\n",
       " ContractDetails(contract=Contract(secType='STK', conId=265598, symbol='AAPL', exchange='PHLX', primaryExchange='NASDAQ', currency='USD', localSymbol='AAPL', tradingClass='NMS'), marketName='NMS', minTick=0.01, orderTypes='ACTIVETIM,AD,ADJUST,ALERT,ALLOC,AVGCOST,BASKET,BENCHPX,CASHQTY,COND,CONDORDER,DAY,DEACT,DEACTDIS,DEACTEOD,GAT,GTC,GTD,GTT,HID,LIT,LMT,MIT,MKT,MTL,NGCOMB,NONALGO,OCA,PEGBENCH,SCALE,SCALERST,SNAPMID,SNAPMKT,SNAPREL,STP,STPLMT,TRAIL,TRAILLIT,TRAILLMT,TRAILMIT,WHATIF', validExchanges='SMART,AMEX,NYSE,CBOE,PHLX,ISE,CHX,ARCA,NASDAQ,DRCTEDGE,BEX,BATS,EDGEA,BYX,IEX,EDGX,FOXRIVER,PEARL,NYSENAT,LTSE,MEMX,IBEOS,OVERNIGHT,TPLUS0,PSX', priceMagnifier=1, underConId=0, longName='APPLE INC', contractMonth='', industry='Technology', category='Computers', subcategory='Computers', timeZoneId='US/Eastern', tradingHours='20240531:0930-20240531:1600;20240601:CLOSED;20240602:CLOSED;20240603:0930-20240603:1600;20240604:0930-20240604:1600;20240605:0930-20240605:1600', liquidHours='20240531:0930-20240531:1600;20240601:CLOSED;20240602:CLOSED;20240603:0930-20240603:1600;20240604:0930-20240604:1600;20240605:0930-20240605:1600', evRule='', evMultiplier=0, mdSizeMultiplier=1, aggGroup=2147483647, underSymbol='', underSecType='', marketRuleIds='26,26,26,26,26,26,26,26,26,26,26,26,26,26,26,26,26,26,26,26,26,26,26,26,26', secIdList=[TagValue(tag='ISIN', value='US0378331005')], realExpirationDate='', lastTradeTime='', stockType='COMMON', minSize=0.0001, sizeIncrement=0.0001, suggestedSizeIncrement=100.0, cusip='', ratings='', descAppend='', bondType='', couponType='', callable=False, putable=False, coupon=0, convertible=False, maturity='', issueDate='', nextOptionDate='', nextOptionType='', nextOptionPartial=False, notes=''),\n",
       " ContractDetails(contract=Contract(secType='STK', conId=265598, symbol='AAPL', exchange='ISE', primaryExchange='NASDAQ', currency='USD', localSymbol='AAPL', tradingClass='NMS'), marketName='NMS', minTick=0.01, orderTypes='ACTIVETIM,AD,ADJUST,ALERT,ALLOC,AVGCOST,BASKET,BENCHPX,CASHQTY,COND,CONDORDER,DAY,DEACT,DEACTDIS,DEACTEOD,GAT,GTC,GTD,GTT,HID,LIT,LMT,MIT,MKT,MTL,NGCOMB,NONALGO,OCA,PEGBENCH,SCALE,SCALERST,SNAPMID,SNAPMKT,SNAPREL,STP,STPLMT,TRAIL,TRAILLIT,TRAILLMT,TRAILMIT,WHATIF', validExchanges='SMART,AMEX,NYSE,CBOE,PHLX,ISE,CHX,ARCA,NASDAQ,DRCTEDGE,BEX,BATS,EDGEA,BYX,IEX,EDGX,FOXRIVER,PEARL,NYSENAT,LTSE,MEMX,IBEOS,OVERNIGHT,TPLUS0,PSX', priceMagnifier=1, underConId=0, longName='APPLE INC', contractMonth='', industry='Technology', category='Computers', subcategory='Computers', timeZoneId='US/Eastern', tradingHours='20240531:0800-20240531:2000;20240601:CLOSED;20240602:CLOSED;20240603:0800-20240603:2000;20240604:0800-20240604:2000;20240605:0800-20240605:2000', liquidHours='20240531:0800-20240531:2000;20240601:CLOSED;20240602:CLOSED;20240603:0800-20240603:2000;20240604:0800-20240604:2000;20240605:0800-20240605:2000', evRule='', evMultiplier=0, mdSizeMultiplier=1, aggGroup=2147483647, underSymbol='', underSecType='', marketRuleIds='26,26,26,26,26,26,26,26,26,26,26,26,26,26,26,26,26,26,26,26,26,26,26,26,26', secIdList=[TagValue(tag='ISIN', value='US0378331005')], realExpirationDate='', lastTradeTime='', stockType='COMMON', minSize=0.0001, sizeIncrement=0.0001, suggestedSizeIncrement=100.0, cusip='', ratings='', descAppend='', bondType='', couponType='', callable=False, putable=False, coupon=0, convertible=False, maturity='', issueDate='', nextOptionDate='', nextOptionType='', nextOptionPartial=False, notes=''),\n",
       " ContractDetails(contract=Contract(secType='STK', conId=265598, symbol='AAPL', exchange='CHX', primaryExchange='NASDAQ', currency='USD', localSymbol='AAPL', tradingClass='NMS'), marketName='NMS', minTick=0.01, orderTypes='ACTIVETIM,AD,ADJUST,ALERT,ALLOC,AVGCOST,BASKET,BENCHPX,CASHQTY,COND,CONDORDER,DAY,DEACT,DEACTDIS,DEACTEOD,GAT,GTC,GTD,GTT,HID,IOC,LIT,LMT,MIT,MKT,MTL,NGCOMB,NONALGO,OCA,PEGBENCH,SCALE,SCALERST,SNAPMID,SNAPMKT,SNAPREL,STP,STPLMT,TRAIL,TRAILLIT,TRAILLMT,TRAILMIT,WHATIF', validExchanges='SMART,AMEX,NYSE,CBOE,PHLX,ISE,CHX,ARCA,NASDAQ,DRCTEDGE,BEX,BATS,EDGEA,BYX,IEX,EDGX,FOXRIVER,PEARL,NYSENAT,LTSE,MEMX,IBEOS,OVERNIGHT,TPLUS0,PSX', priceMagnifier=1, underConId=0, longName='APPLE INC', contractMonth='', industry='Technology', category='Computers', subcategory='Computers', timeZoneId='US/Central', tradingHours='20240531:0600-20240531:1900;20240601:CLOSED;20240602:CLOSED;20240603:0600-20240603:1900;20240604:0600-20240604:1900;20240605:0600-20240605:1900', liquidHours='20240531:0600-20240531:1900;20240601:CLOSED;20240602:CLOSED;20240603:0600-20240603:1900;20240604:0600-20240604:1900;20240605:0600-20240605:1900', evRule='', evMultiplier=0, mdSizeMultiplier=1, aggGroup=1, underSymbol='', underSecType='', marketRuleIds='26,26,26,26,26,26,26,26,26,26,26,26,26,26,26,26,26,26,26,26,26,26,26,26,26', secIdList=[TagValue(tag='ISIN', value='US0378331005')], realExpirationDate='', lastTradeTime='', stockType='COMMON', minSize=0.0001, sizeIncrement=0.0001, suggestedSizeIncrement=100.0, cusip='', ratings='', descAppend='', bondType='', couponType='', callable=False, putable=False, coupon=0, convertible=False, maturity='', issueDate='', nextOptionDate='', nextOptionType='', nextOptionPartial=False, notes=''),\n",
       " ContractDetails(contract=Contract(secType='STK', conId=265598, symbol='AAPL', exchange='ARCA', primaryExchange='NASDAQ', currency='USD', localSymbol='AAPL', tradingClass='NMS'), marketName='NMS', minTick=0.01, orderTypes='ACTIVETIM,AD,ADJUST,ALERT,ALLOC,AVGCOST,BASKET,BENCHPX,CASHQTY,COND,CONDORDER,DAY,DEACT,DEACTDIS,DEACTEOD,DIS,GAT,GTC,GTD,GTT,HID,IOC,LIT,LMT,LOC,MIT,MKT,MOC,MTL,NGCOMB,NONALGO,OCA,OPG,PEGBENCH,REL,RELPCTOFS,RTH,SCALE,SCALERST,SNAPMID,SNAPMKT,SNAPREL,STP,STPLMT,TRAIL,TRAILLIT,TRAILLMT,TRAILMIT,WHATIF', validExchanges='SMART,AMEX,NYSE,CBOE,PHLX,ISE,CHX,ARCA,NASDAQ,DRCTEDGE,BEX,BATS,EDGEA,BYX,IEX,EDGX,FOXRIVER,PEARL,NYSENAT,LTSE,MEMX,IBEOS,OVERNIGHT,TPLUS0,PSX', priceMagnifier=1, underConId=0, longName='APPLE INC', contractMonth='', industry='Technology', category='Computers', subcategory='Computers', timeZoneId='US/Eastern', tradingHours='20240531:0400-20240531:2000;20240601:CLOSED;20240602:CLOSED;20240603:0400-20240603:2000;20240604:0400-20240604:2000;20240605:0400-20240605:2000', liquidHours='20240531:0930-20240531:1600;20240601:CLOSED;20240602:CLOSED;20240603:0930-20240603:1600;20240604:0930-20240604:1600;20240605:0930-20240605:1600', evRule='', evMultiplier=0, mdSizeMultiplier=1, aggGroup=1, underSymbol='', underSecType='', marketRuleIds='26,26,26,26,26,26,26,26,26,26,26,26,26,26,26,26,26,26,26,26,26,26,26,26,26', secIdList=[TagValue(tag='ISIN', value='US0378331005')], realExpirationDate='', lastTradeTime='', stockType='COMMON', minSize=0.0001, sizeIncrement=0.0001, suggestedSizeIncrement=100.0, cusip='', ratings='', descAppend='', bondType='', couponType='', callable=False, putable=False, coupon=0, convertible=False, maturity='', issueDate='', nextOptionDate='', nextOptionType='', nextOptionPartial=False, notes=''),\n",
       " ContractDetails(contract=Contract(secType='STK', conId=265598, symbol='AAPL', exchange='NASDAQ', primaryExchange='NASDAQ', currency='USD', localSymbol='AAPL', tradingClass='NMS'), marketName='NMS', minTick=0.01, orderTypes='ACTIVETIM,AD,ADJUST,ALERT,ALLOC,AON,AVGCOST,BASKET,BENCHPX,CASHQTY,COND,CONDORDER,DAY,DEACT,DEACTDIS,DEACTEOD,DIS,GAT,GTC,GTD,GTT,HID,IOC,LIT,LMT,LOC,MIT,MKT,MOC,MTL,NGCOMB,NONALGO,OCA,OPG,PEGBENCH,RELPCTOFS,RTH,SCALE,SCALERST,SNAPMID,SNAPMKT,SNAPREL,STP,STPLMT,TRAIL,TRAILLIT,TRAILLMT,TRAILMIT,WHATIF', validExchanges='SMART,AMEX,NYSE,CBOE,PHLX,ISE,CHX,ARCA,NASDAQ,DRCTEDGE,BEX,BATS,EDGEA,BYX,IEX,EDGX,FOXRIVER,PEARL,NYSENAT,LTSE,MEMX,IBEOS,OVERNIGHT,TPLUS0,PSX', priceMagnifier=1, underConId=0, longName='APPLE INC', contractMonth='', industry='Technology', category='Computers', subcategory='Computers', timeZoneId='US/Eastern', tradingHours='20240531:0400-20240531:2000;20240601:CLOSED;20240602:CLOSED;20240603:0400-20240603:2000;20240604:0400-20240604:2000;20240605:0400-20240605:2000', liquidHours='20240531:0930-20240531:1600;20240601:CLOSED;20240602:CLOSED;20240603:0930-20240603:1600;20240604:0930-20240604:1600;20240605:0930-20240605:1600', evRule='', evMultiplier=0, mdSizeMultiplier=1, aggGroup=1, underSymbol='', underSecType='', marketRuleIds='26,26,26,26,26,26,26,26,26,26,26,26,26,26,26,26,26,26,26,26,26,26,26,26,26', secIdList=[TagValue(tag='ISIN', value='US0378331005')], realExpirationDate='', lastTradeTime='', stockType='COMMON', minSize=0.0001, sizeIncrement=0.0001, suggestedSizeIncrement=100.0, cusip='', ratings='', descAppend='', bondType='', couponType='', callable=False, putable=False, coupon=0, convertible=False, maturity='', issueDate='', nextOptionDate='', nextOptionType='', nextOptionPartial=False, notes=''),\n",
       " ContractDetails(contract=Contract(secType='STK', conId=265598, symbol='AAPL', exchange='DRCTEDGE', primaryExchange='NASDAQ', currency='USD', localSymbol='AAPL', tradingClass='NMS'), marketName='NMS', minTick=0.01, orderTypes='ACTIVETIM,AD,ADJUST,ALERT,ALLOC,AON,AVGCOST,BASKET,BENCHPX,CASHQTY,COND,CONDORDER,DAY,DEACT,DEACTDIS,DEACTEOD,GAT,GTC,GTD,GTT,HID,LIT,LMT,MIT,MKT,MTL,NGCOMB,NONALGO,OCA,PEGBENCH,RTH,SCALE,SCALERST,SNAPMID,SNAPMKT,SNAPREL,STP,STPLMT,TRAIL,TRAILLIT,TRAILLMT,TRAILMIT,WHATIF', validExchanges='SMART,AMEX,NYSE,CBOE,PHLX,ISE,CHX,ARCA,NASDAQ,DRCTEDGE,BEX,BATS,EDGEA,BYX,IEX,EDGX,FOXRIVER,PEARL,NYSENAT,LTSE,MEMX,IBEOS,OVERNIGHT,TPLUS0,PSX', priceMagnifier=1, underConId=0, longName='APPLE INC', contractMonth='', industry='Technology', category='Computers', subcategory='Computers', timeZoneId='US/Eastern', tradingHours='20240531:0400-20240531:2000;20240601:CLOSED;20240602:CLOSED;20240603:0400-20240603:2000;20240604:0400-20240604:2000;20240605:0400-20240605:2000', liquidHours='20240531:0930-20240531:1600;20240601:CLOSED;20240602:CLOSED;20240603:0930-20240603:1600;20240604:0930-20240604:1600;20240605:0930-20240605:1600', evRule='', evMultiplier=0, mdSizeMultiplier=1, aggGroup=1, underSymbol='', underSecType='', marketRuleIds='26,26,26,26,26,26,26,26,26,26,26,26,26,26,26,26,26,26,26,26,26,26,26,26,26', secIdList=[TagValue(tag='ISIN', value='US0378331005')], realExpirationDate='', lastTradeTime='', stockType='COMMON', minSize=0.0001, sizeIncrement=0.0001, suggestedSizeIncrement=100.0, cusip='', ratings='', descAppend='', bondType='', couponType='', callable=False, putable=False, coupon=0, convertible=False, maturity='', issueDate='', nextOptionDate='', nextOptionType='', nextOptionPartial=False, notes=''),\n",
       " ContractDetails(contract=Contract(secType='STK', conId=265598, symbol='AAPL', exchange='BEX', primaryExchange='NASDAQ', currency='USD', localSymbol='AAPL', tradingClass='NMS'), marketName='NMS', minTick=0.01, orderTypes='ACTIVETIM,AD,ADJUST,ALERT,ALLOC,AON,AVGCOST,BASKET,BENCHPX,CASHQTY,COND,CONDORDER,DAY,DEACT,DEACTDIS,DEACTEOD,GAT,GTC,GTD,GTT,HID,LIT,LMT,MIT,MKT,MTL,NGCOMB,NONALGO,OCA,PEGBENCH,RTH,SCALE,SCALERST,SNAPMID,SNAPMKT,SNAPREL,STP,STPLMT,TRAIL,TRAILLIT,TRAILLMT,TRAILMIT,WHATIF', validExchanges='SMART,AMEX,NYSE,CBOE,PHLX,ISE,CHX,ARCA,NASDAQ,DRCTEDGE,BEX,BATS,EDGEA,BYX,IEX,EDGX,FOXRIVER,PEARL,NYSENAT,LTSE,MEMX,IBEOS,OVERNIGHT,TPLUS0,PSX', priceMagnifier=1, underConId=0, longName='APPLE INC', contractMonth='', industry='Technology', category='Computers', subcategory='Computers', timeZoneId='US/Eastern', tradingHours='20240531:0700-20240531:1900;20240601:CLOSED;20240602:CLOSED;20240603:0700-20240603:1900;20240604:0700-20240604:1900;20240605:0700-20240605:1900', liquidHours='20240531:0930-20240531:1600;20240601:CLOSED;20240602:CLOSED;20240603:0930-20240603:1600;20240604:0930-20240604:1600;20240605:0930-20240605:1600', evRule='', evMultiplier=0, mdSizeMultiplier=1, aggGroup=1, underSymbol='', underSecType='', marketRuleIds='26,26,26,26,26,26,26,26,26,26,26,26,26,26,26,26,26,26,26,26,26,26,26,26,26', secIdList=[TagValue(tag='ISIN', value='US0378331005')], realExpirationDate='', lastTradeTime='', stockType='COMMON', minSize=0.0001, sizeIncrement=0.0001, suggestedSizeIncrement=100.0, cusip='', ratings='', descAppend='', bondType='', couponType='', callable=False, putable=False, coupon=0, convertible=False, maturity='', issueDate='', nextOptionDate='', nextOptionType='', nextOptionPartial=False, notes=''),\n",
       " ContractDetails(contract=Contract(secType='STK', conId=265598, symbol='AAPL', exchange='BATS', primaryExchange='NASDAQ', currency='USD', localSymbol='AAPL', tradingClass='NMS'), marketName='NMS', minTick=0.01, orderTypes='ACTIVETIM,AD,ADJUST,ALERT,ALLOC,AON,AVGCOST,BASKET,BENCHPX,CASHQTY,COND,CONDORDER,DAY,DEACT,DEACTDIS,DEACTEOD,DIS,GAT,GTC,GTD,GTT,HID,IOC,LIT,LMT,MIT,MKT,MTL,NGCOMB,NONALGO,OCA,PEGBENCH,PREOPGRTH,REL,RELPCTOFS,RTH,SCALE,SCALERST,SNAPMID,SNAPMKT,SNAPREL,STP,STPLMT,TRAIL,TRAILLIT,TRAILLMT,TRAILMIT,WHATIF', validExchanges='SMART,AMEX,NYSE,CBOE,PHLX,ISE,CHX,ARCA,NASDAQ,DRCTEDGE,BEX,BATS,EDGEA,BYX,IEX,EDGX,FOXRIVER,PEARL,NYSENAT,LTSE,MEMX,IBEOS,OVERNIGHT,TPLUS0,PSX', priceMagnifier=1, underConId=0, longName='APPLE INC', contractMonth='', industry='Technology', category='Computers', subcategory='Computers', timeZoneId='US/Eastern', tradingHours='20240531:0700-20240531:2000;20240601:CLOSED;20240602:CLOSED;20240603:0700-20240603:2000;20240604:0700-20240604:2000;20240605:0700-20240605:2000', liquidHours='20240531:0930-20240531:1600;20240601:CLOSED;20240602:CLOSED;20240603:0930-20240603:1600;20240604:0930-20240604:1600;20240605:0930-20240605:1600', evRule='', evMultiplier=0, mdSizeMultiplier=1, aggGroup=1, underSymbol='', underSecType='', marketRuleIds='26,26,26,26,26,26,26,26,26,26,26,26,26,26,26,26,26,26,26,26,26,26,26,26,26', secIdList=[TagValue(tag='ISIN', value='US0378331005')], realExpirationDate='', lastTradeTime='', stockType='COMMON', minSize=0.0001, sizeIncrement=0.0001, suggestedSizeIncrement=100.0, cusip='', ratings='', descAppend='', bondType='', couponType='', callable=False, putable=False, coupon=0, convertible=False, maturity='', issueDate='', nextOptionDate='', nextOptionType='', nextOptionPartial=False, notes=''),\n",
       " ContractDetails(contract=Contract(secType='STK', conId=265598, symbol='AAPL', exchange='EDGEA', primaryExchange='NASDAQ', currency='USD', localSymbol='AAPL', tradingClass='NMS'), marketName='NMS', minTick=0.01, orderTypes='ACTIVETIM,AD,ADJUST,ALERT,ALLOC,AVGCOST,BASKET,BENCHPX,CASHQTY,COND,CONDORDER,DAY,DEACT,DEACTDIS,DEACTEOD,GAT,GTC,GTD,GTT,HID,LIT,LMT,MIT,MKT,MTL,NGCOMB,NONALGO,OCA,PEGBENCH,RTH,SCALE,SCALERST,SNAPMID,SNAPMKT,SNAPREL,STP,STPLMT,TRAIL,TRAILLIT,TRAILLMT,TRAILMIT,WHATIF', validExchanges='SMART,AMEX,NYSE,CBOE,PHLX,ISE,CHX,ARCA,NASDAQ,DRCTEDGE,BEX,BATS,EDGEA,BYX,IEX,EDGX,FOXRIVER,PEARL,NYSENAT,LTSE,MEMX,IBEOS,OVERNIGHT,TPLUS0,PSX', priceMagnifier=1, underConId=0, longName='APPLE INC', contractMonth='', industry='Technology', category='Computers', subcategory='Computers', timeZoneId='US/Eastern', tradingHours='20240531:0700-20240531:2000;20240601:CLOSED;20240602:CLOSED;20240603:0700-20240603:2000;20240604:0700-20240604:2000;20240605:0700-20240605:2000', liquidHours='20240531:0930-20240531:1600;20240601:CLOSED;20240602:CLOSED;20240603:0930-20240603:1600;20240604:0930-20240604:1600;20240605:0930-20240605:1600', evRule='', evMultiplier=0, mdSizeMultiplier=1, aggGroup=1, underSymbol='', underSecType='', marketRuleIds='26,26,26,26,26,26,26,26,26,26,26,26,26,26,26,26,26,26,26,26,26,26,26,26,26', secIdList=[TagValue(tag='ISIN', value='US0378331005')], realExpirationDate='', lastTradeTime='', stockType='COMMON', minSize=0.0001, sizeIncrement=0.0001, suggestedSizeIncrement=100.0, cusip='', ratings='', descAppend='', bondType='', couponType='', callable=False, putable=False, coupon=0, convertible=False, maturity='', issueDate='', nextOptionDate='', nextOptionType='', nextOptionPartial=False, notes=''),\n",
       " ContractDetails(contract=Contract(secType='STK', conId=265598, symbol='AAPL', exchange='BYX', primaryExchange='NASDAQ', currency='USD', localSymbol='AAPL', tradingClass='NMS'), marketName='NMS', minTick=0.01, orderTypes='ACTIVETIM,AD,ADJUST,ALERT,ALLOC,AON,AVGCOST,BASKET,BENCHPX,CASHQTY,COND,CONDORDER,DAY,DEACT,DEACTDIS,DEACTEOD,GAT,GTC,GTD,GTT,HID,IOC,LIT,LMT,MIT,MKT,MTL,NGCOMB,NONALGO,OCA,PEGBENCH,RTH,SCALE,SCALERST,SNAPMID,SNAPMKT,SNAPREL,STP,STPLMT,TRAIL,TRAILLIT,TRAILLMT,TRAILMIT,WHATIF', validExchanges='SMART,AMEX,NYSE,CBOE,PHLX,ISE,CHX,ARCA,NASDAQ,DRCTEDGE,BEX,BATS,EDGEA,BYX,IEX,EDGX,FOXRIVER,PEARL,NYSENAT,LTSE,MEMX,IBEOS,OVERNIGHT,TPLUS0,PSX', priceMagnifier=1, underConId=0, longName='APPLE INC', contractMonth='', industry='Technology', category='Computers', subcategory='Computers', timeZoneId='US/Eastern', tradingHours='20240531:0700-20240531:2000;20240601:CLOSED;20240602:CLOSED;20240603:0700-20240603:2000;20240604:0700-20240604:2000;20240605:0700-20240605:2000', liquidHours='20240531:0930-20240531:1600;20240601:CLOSED;20240602:CLOSED;20240603:0930-20240603:1600;20240604:0930-20240604:1600;20240605:0930-20240605:1600', evRule='', evMultiplier=0, mdSizeMultiplier=1, aggGroup=1, underSymbol='', underSecType='', marketRuleIds='26,26,26,26,26,26,26,26,26,26,26,26,26,26,26,26,26,26,26,26,26,26,26,26,26', secIdList=[TagValue(tag='ISIN', value='US0378331005')], realExpirationDate='', lastTradeTime='', stockType='COMMON', minSize=0.0001, sizeIncrement=0.0001, suggestedSizeIncrement=100.0, cusip='', ratings='', descAppend='', bondType='', couponType='', callable=False, putable=False, coupon=0, convertible=False, maturity='', issueDate='', nextOptionDate='', nextOptionType='', nextOptionPartial=False, notes=''),\n",
       " ContractDetails(contract=Contract(secType='STK', conId=265598, symbol='AAPL', exchange='IEX', primaryExchange='NASDAQ', currency='USD', localSymbol='AAPL', tradingClass='NMS'), marketName='NMS', minTick=0.01, orderTypes='ACTIVETIM,AD,ADJUST,ALLOC,AON,AVGCOST,BASKET,BENCHPX,CASHQTY,CONDORDER,DAY,DEACT,DEACTDIS,DEACTEOD,GAT,GTC,GTD,GTT,HID,IOC,LIT,LMT,MIT,MKT,MTL,NGCOMB,NONALGO,OCA,PEGBENCH,RELPCTOFS,SCALE,SCALERST,SNAPMID,SNAPMKT,SNAPREL,STP,STPLMT,TRAIL,TRAILLIT,TRAILLMT,TRAILMIT,WHATIF', validExchanges='SMART,AMEX,NYSE,CBOE,PHLX,ISE,CHX,ARCA,NASDAQ,DRCTEDGE,BEX,BATS,EDGEA,BYX,IEX,EDGX,FOXRIVER,PEARL,NYSENAT,LTSE,MEMX,IBEOS,OVERNIGHT,TPLUS0,PSX', priceMagnifier=1, underConId=0, longName='APPLE INC', contractMonth='', industry='Technology', category='Computers', subcategory='Computers', timeZoneId='US/Eastern', tradingHours='20240531:0800-20240531:1700;20240601:CLOSED;20240602:CLOSED;20240603:0800-20240603:1700;20240604:0800-20240604:1700;20240605:0800-20240605:1700', liquidHours='20240531:0800-20240531:1700;20240601:CLOSED;20240602:CLOSED;20240603:0800-20240603:1700;20240604:0800-20240604:1700;20240605:0800-20240605:1700', evRule='', evMultiplier=0, mdSizeMultiplier=1, aggGroup=1, underSymbol='', underSecType='', marketRuleIds='26,26,26,26,26,26,26,26,26,26,26,26,26,26,26,26,26,26,26,26,26,26,26,26,26', secIdList=[TagValue(tag='ISIN', value='US0378331005')], realExpirationDate='', lastTradeTime='', stockType='COMMON', minSize=0.0001, sizeIncrement=0.0001, suggestedSizeIncrement=100.0, cusip='', ratings='', descAppend='', bondType='', couponType='', callable=False, putable=False, coupon=0, convertible=False, maturity='', issueDate='', nextOptionDate='', nextOptionType='', nextOptionPartial=False, notes=''),\n",
       " ContractDetails(contract=Contract(secType='STK', conId=265598, symbol='AAPL', exchange='EDGX', primaryExchange='NASDAQ', currency='USD', localSymbol='AAPL', tradingClass='NMS'), marketName='NMS', minTick=0.01, orderTypes='ACTIVETIM,AD,ADJUST,ALERT,ALLOC,AVGCOST,BASKET,BENCHPX,CASHQTY,COND,CONDORDER,DAY,DEACT,DEACTDIS,DEACTEOD,GAT,GTC,GTD,GTT,HID,LIT,LMT,MIT,MKT,MTL,NGCOMB,NONALGO,OCA,PEGBENCH,SCALE,SCALERST,SNAPMID,SNAPMKT,SNAPREL,STP,STPLMT,TRAIL,TRAILLIT,TRAILLMT,TRAILMIT,WHATIF', validExchanges='SMART,AMEX,NYSE,CBOE,PHLX,ISE,CHX,ARCA,NASDAQ,DRCTEDGE,BEX,BATS,EDGEA,BYX,IEX,EDGX,FOXRIVER,PEARL,NYSENAT,LTSE,MEMX,IBEOS,OVERNIGHT,TPLUS0,PSX', priceMagnifier=1, underConId=0, longName='APPLE INC', contractMonth='', industry='Technology', category='Computers', subcategory='Computers', timeZoneId='US/Eastern', tradingHours='20240531:0700-20240531:2000;20240601:CLOSED;20240602:CLOSED;20240603:0700-20240603:2000;20240604:0700-20240604:2000;20240605:0700-20240605:2000', liquidHours='20240531:0700-20240531:2000;20240601:CLOSED;20240602:CLOSED;20240603:0700-20240603:2000;20240604:0700-20240604:2000;20240605:0700-20240605:2000', evRule='', evMultiplier=0, mdSizeMultiplier=1, aggGroup=2147483647, underSymbol='', underSecType='', marketRuleIds='26,26,26,26,26,26,26,26,26,26,26,26,26,26,26,26,26,26,26,26,26,26,26,26,26', secIdList=[TagValue(tag='ISIN', value='US0378331005')], realExpirationDate='', lastTradeTime='', stockType='COMMON', minSize=0.0001, sizeIncrement=0.0001, suggestedSizeIncrement=100.0, cusip='', ratings='', descAppend='', bondType='', couponType='', callable=False, putable=False, coupon=0, convertible=False, maturity='', issueDate='', nextOptionDate='', nextOptionType='', nextOptionPartial=False, notes=''),\n",
       " ContractDetails(contract=Contract(secType='STK', conId=265598, symbol='AAPL', exchange='FOXRIVER', primaryExchange='NASDAQ', currency='USD', localSymbol='AAPL', tradingClass='NMS'), marketName='NMS', minTick=0.01, orderTypes='AD,ALERT,ALLOC,AVGCOST,BASKET,BENCHPX,CASHQTY,DAY,DEACT,DEACTDIS,HID,IOC,LMT,MKT,NGCOMB,PEGBENCH,RTH,SNAPMID,SNAPMKT,SNAPREL,WHATIF', validExchanges='SMART,AMEX,NYSE,CBOE,PHLX,ISE,CHX,ARCA,NASDAQ,DRCTEDGE,BEX,BATS,EDGEA,BYX,IEX,EDGX,FOXRIVER,PEARL,NYSENAT,LTSE,MEMX,IBEOS,OVERNIGHT,TPLUS0,PSX', priceMagnifier=1, underConId=0, longName='APPLE INC', contractMonth='', industry='Technology', category='Computers', subcategory='Computers', timeZoneId='US/Eastern', tradingHours='20240531:0400-20240531:2000;20240601:CLOSED;20240602:CLOSED;20240603:0400-20240603:2000;20240604:0400-20240604:2000;20240605:0400-20240605:2000', liquidHours='20240531:0930-20240531:1600;20240601:CLOSED;20240602:CLOSED;20240603:0930-20240603:1600;20240604:0930-20240604:1600;20240605:0930-20240605:1600', evRule='', evMultiplier=0, mdSizeMultiplier=1, aggGroup=2147483647, underSymbol='', underSecType='', marketRuleIds='26,26,26,26,26,26,26,26,26,26,26,26,26,26,26,26,26,26,26,26,26,26,26,26,26', secIdList=[TagValue(tag='ISIN', value='US0378331005')], realExpirationDate='', lastTradeTime='', stockType='COMMON', minSize=0.0001, sizeIncrement=0.0001, suggestedSizeIncrement=100.0, cusip='', ratings='', descAppend='', bondType='', couponType='', callable=False, putable=False, coupon=0, convertible=False, maturity='', issueDate='', nextOptionDate='', nextOptionType='', nextOptionPartial=False, notes=''),\n",
       " ContractDetails(contract=Contract(secType='STK', conId=265598, symbol='AAPL', exchange='PEARL', primaryExchange='NASDAQ', currency='USD', localSymbol='AAPL', tradingClass='NMS'), marketName='NMS', minTick=0.01, orderTypes='ACTIVETIM,AD,ADJUST,ALERT,ALLOC,AVGCOST,BASKET,BENCHPX,CASHQTY,COND,CONDORDER,DAY,DEACT,DEACTDIS,DEACTEOD,GAT,GTC,GTD,GTT,HID,IOC,LIT,LMT,MIT,MKT,MTL,NGCOMB,NONALGO,OCA,PEGBENCH,SCALE,SCALERST,SNAPMID,SNAPMKT,SNAPREL,STP,STPLMT,TRAIL,TRAILLIT,TRAILLMT,TRAILMIT,WHATIF', validExchanges='SMART,AMEX,NYSE,CBOE,PHLX,ISE,CHX,ARCA,NASDAQ,DRCTEDGE,BEX,BATS,EDGEA,BYX,IEX,EDGX,FOXRIVER,PEARL,NYSENAT,LTSE,MEMX,IBEOS,OVERNIGHT,TPLUS0,PSX', priceMagnifier=1, underConId=0, longName='APPLE INC', contractMonth='', industry='Technology', category='Computers', subcategory='Computers', timeZoneId='US/Eastern', tradingHours='20240531:0930-20240531:1600;20240601:CLOSED;20240602:CLOSED;20240603:0930-20240603:1600;20240604:0930-20240604:1600;20240605:0930-20240605:1600', liquidHours='20240531:0930-20240531:1600;20240601:CLOSED;20240602:CLOSED;20240603:0930-20240603:1600;20240604:0930-20240604:1600;20240605:0930-20240605:1600', evRule='', evMultiplier=0, mdSizeMultiplier=1, aggGroup=1, underSymbol='', underSecType='', marketRuleIds='26,26,26,26,26,26,26,26,26,26,26,26,26,26,26,26,26,26,26,26,26,26,26,26,26', secIdList=[TagValue(tag='ISIN', value='US0378331005')], realExpirationDate='', lastTradeTime='', stockType='COMMON', minSize=0.0001, sizeIncrement=0.0001, suggestedSizeIncrement=100.0, cusip='', ratings='', descAppend='', bondType='', couponType='', callable=False, putable=False, coupon=0, convertible=False, maturity='', issueDate='', nextOptionDate='', nextOptionType='', nextOptionPartial=False, notes=''),\n",
       " ContractDetails(contract=Contract(secType='STK', conId=265598, symbol='AAPL', exchange='NYSENAT', primaryExchange='NASDAQ', currency='USD', localSymbol='AAPL', tradingClass='NMS'), marketName='NMS', minTick=0.01, orderTypes='ACTIVETIM,AD,ADJUST,ALERT,ALLOC,AVGCOST,BASKET,BENCHPX,CASHQTY,COND,CONDORDER,DAY,DEACT,DEACTDIS,DEACTEOD,GAT,GTC,GTD,GTT,HID,IOC,LIT,LMT,MIT,MKT,MTL,NGCOMB,NONALGO,OCA,PEGBENCH,SCALE,SCALERST,SNAPMID,SNAPMKT,SNAPREL,STP,STPLMT,TRAIL,TRAILLIT,TRAILLMT,TRAILMIT,WHATIF', validExchanges='SMART,AMEX,NYSE,CBOE,PHLX,ISE,CHX,ARCA,NASDAQ,DRCTEDGE,BEX,BATS,EDGEA,BYX,IEX,EDGX,FOXRIVER,PEARL,NYSENAT,LTSE,MEMX,IBEOS,OVERNIGHT,TPLUS0,PSX', priceMagnifier=1, underConId=0, longName='APPLE INC', contractMonth='', industry='Technology', category='Computers', subcategory='Computers', timeZoneId='US/Eastern', tradingHours='20240531:0700-20240531:2000;20240601:CLOSED;20240602:CLOSED;20240603:0700-20240603:2000;20240604:0700-20240604:2000;20240605:0700-20240605:2000', liquidHours='20240531:0700-20240531:2000;20240601:CLOSED;20240602:CLOSED;20240603:0700-20240603:2000;20240604:0700-20240604:2000;20240605:0700-20240605:2000', evRule='', evMultiplier=0, mdSizeMultiplier=1, aggGroup=1, underSymbol='', underSecType='', marketRuleIds='26,26,26,26,26,26,26,26,26,26,26,26,26,26,26,26,26,26,26,26,26,26,26,26,26', secIdList=[TagValue(tag='ISIN', value='US0378331005')], realExpirationDate='', lastTradeTime='', stockType='COMMON', minSize=0.0001, sizeIncrement=0.0001, suggestedSizeIncrement=100.0, cusip='', ratings='', descAppend='', bondType='', couponType='', callable=False, putable=False, coupon=0, convertible=False, maturity='', issueDate='', nextOptionDate='', nextOptionType='', nextOptionPartial=False, notes=''),\n",
       " ContractDetails(contract=Contract(secType='STK', conId=265598, symbol='AAPL', exchange='LTSE', primaryExchange='NASDAQ', currency='USD', localSymbol='AAPL', tradingClass='NMS'), marketName='NMS', minTick=0.01, orderTypes='ACTIVETIM,AD,ADJUST,ALERT,ALLOC,AVGCOST,BASKET,BENCHPX,CASHQTY,COND,CONDORDER,DAY,DEACT,DEACTDIS,DEACTEOD,GAT,GTC,GTD,GTT,HID,IOC,LIT,LMT,MIT,MKT,MTL,NGCOMB,NONALGO,OCA,PEGBENCH,SCALE,SCALERST,SNAPMID,SNAPMKT,SNAPREL,STP,STPLMT,TRAIL,TRAILLIT,TRAILLMT,TRAILMIT,WHATIF', validExchanges='SMART,AMEX,NYSE,CBOE,PHLX,ISE,CHX,ARCA,NASDAQ,DRCTEDGE,BEX,BATS,EDGEA,BYX,IEX,EDGX,FOXRIVER,PEARL,NYSENAT,LTSE,MEMX,IBEOS,OVERNIGHT,TPLUS0,PSX', priceMagnifier=1, underConId=0, longName='APPLE INC', contractMonth='', industry='Technology', category='Computers', subcategory='Computers', timeZoneId='US/Eastern', tradingHours='20240531:0800-20240531:1700;20240601:CLOSED;20240602:CLOSED;20240603:0800-20240603:1700;20240604:0800-20240604:1700;20240605:0800-20240605:1700', liquidHours='20240531:0800-20240531:1700;20240601:CLOSED;20240602:CLOSED;20240603:0800-20240603:1700;20240604:0800-20240604:1700;20240605:0800-20240605:1700', evRule='', evMultiplier=0, mdSizeMultiplier=1, aggGroup=1, underSymbol='', underSecType='', marketRuleIds='26,26,26,26,26,26,26,26,26,26,26,26,26,26,26,26,26,26,26,26,26,26,26,26,26', secIdList=[TagValue(tag='ISIN', value='US0378331005')], realExpirationDate='', lastTradeTime='', stockType='COMMON', minSize=0.0001, sizeIncrement=0.0001, suggestedSizeIncrement=100.0, cusip='', ratings='', descAppend='', bondType='', couponType='', callable=False, putable=False, coupon=0, convertible=False, maturity='', issueDate='', nextOptionDate='', nextOptionType='', nextOptionPartial=False, notes=''),\n",
       " ContractDetails(contract=Contract(secType='STK', conId=265598, symbol='AAPL', exchange='MEMX', primaryExchange='NASDAQ', currency='USD', localSymbol='AAPL', tradingClass='NMS'), marketName='NMS', minTick=0.01, orderTypes='ACTIVETIM,AD,ADJUST,ALERT,ALLOC,AVGCOST,BASKET,BENCHPX,CASHQTY,COND,CONDORDER,DAY,DEACT,DEACTDIS,DEACTEOD,GAT,GTC,GTD,GTT,HID,IOC,LIT,LMT,MIT,MKT,MTL,NGCOMB,NONALGO,OCA,PEGBENCH,SCALE,SCALERST,SNAPMID,SNAPMKT,SNAPREL,STP,STPLMT,TRAIL,TRAILLIT,TRAILLMT,TRAILMIT,WHATIF', validExchanges='SMART,AMEX,NYSE,CBOE,PHLX,ISE,CHX,ARCA,NASDAQ,DRCTEDGE,BEX,BATS,EDGEA,BYX,IEX,EDGX,FOXRIVER,PEARL,NYSENAT,LTSE,MEMX,IBEOS,OVERNIGHT,TPLUS0,PSX', priceMagnifier=1, underConId=0, longName='APPLE INC', contractMonth='', industry='Technology', category='Computers', subcategory='Computers', timeZoneId='US/Eastern', tradingHours='20240531:0700-20240531:2000;20240601:CLOSED;20240602:CLOSED;20240603:0700-20240603:2000;20240604:0700-20240604:2000;20240605:0700-20240605:2000', liquidHours='20240531:0700-20240531:2000;20240601:CLOSED;20240602:CLOSED;20240603:0700-20240603:2000;20240604:0700-20240604:2000;20240605:0700-20240605:2000', evRule='', evMultiplier=0, mdSizeMultiplier=1, aggGroup=1, underSymbol='', underSecType='', marketRuleIds='26,26,26,26,26,26,26,26,26,26,26,26,26,26,26,26,26,26,26,26,26,26,26,26,26', secIdList=[TagValue(tag='ISIN', value='US0378331005')], realExpirationDate='', lastTradeTime='', stockType='COMMON', minSize=0.0001, sizeIncrement=0.0001, suggestedSizeIncrement=100.0, cusip='', ratings='', descAppend='', bondType='', couponType='', callable=False, putable=False, coupon=0, convertible=False, maturity='', issueDate='', nextOptionDate='', nextOptionType='', nextOptionPartial=False, notes=''),\n",
       " ContractDetails(contract=Contract(secType='STK', conId=265598, symbol='AAPL', exchange='IBEOS', primaryExchange='NASDAQ', currency='USD', localSymbol='AAPL', tradingClass='NMS'), marketName='NMS', minTick=0.01, orderTypes='ACTIVETIM,AD,ALERT,ALLOC,AVGCOST,BASKET,BENCHPX,CASHQTY,DAY,DEACT,DEACTDIS,HID,LMT,NGCOMB,NONALGO,OCA,PEGBENCH,SCALE,SCALERST,WHATIF', validExchanges='SMART,AMEX,NYSE,CBOE,PHLX,ISE,CHX,ARCA,NASDAQ,DRCTEDGE,BEX,BATS,EDGEA,BYX,IEX,EDGX,FOXRIVER,PEARL,NYSENAT,LTSE,MEMX,IBEOS,OVERNIGHT,TPLUS0,PSX', priceMagnifier=1, underConId=0, longName='APPLE INC', contractMonth='', industry='Technology', category='Computers', subcategory='Computers', timeZoneId='US/Eastern', tradingHours='20240530:2000-20240531:0350;20240601:CLOSED;20240602:2000-20240603:0350;20240603:2000-20240604:0350;20240604:2000-20240605:0350;20240605:2000-20240606:0350', liquidHours='20240530:2000-20240531:0350;20240601:CLOSED;20240602:2000-20240603:0350;20240603:2000-20240604:0350;20240604:2000-20240605:0350;20240605:2000-20240606:0350', evRule='', evMultiplier=0, mdSizeMultiplier=1, aggGroup=2147483647, underSymbol='', underSecType='', marketRuleIds='26,26,26,26,26,26,26,26,26,26,26,26,26,26,26,26,26,26,26,26,26,26,26,26,26', secIdList=[TagValue(tag='ISIN', value='US0378331005')], realExpirationDate='', lastTradeTime='', stockType='COMMON', minSize=0.0001, sizeIncrement=0.0001, suggestedSizeIncrement=100.0, cusip='', ratings='', descAppend='', bondType='', couponType='', callable=False, putable=False, coupon=0, convertible=False, maturity='', issueDate='', nextOptionDate='', nextOptionType='', nextOptionPartial=False, notes=''),\n",
       " ContractDetails(contract=Contract(secType='STK', conId=265598, symbol='AAPL', exchange='OVERNIGHT', primaryExchange='NASDAQ', currency='USD', localSymbol='AAPL', tradingClass='NMS'), marketName='NMS', minTick=0.01, orderTypes='ACTIVETIM,AD,ALERT,ALLOC,AVGCOST,BASKET,BENCHPX,CASHQTY,DAY,DEACT,DEACTDIS,HID,LMT,NGCOMB,NONALGO,OCA,PEGBENCH,SCALE,SCALERST,WHATIF', validExchanges='SMART,AMEX,NYSE,CBOE,PHLX,ISE,CHX,ARCA,NASDAQ,DRCTEDGE,BEX,BATS,EDGEA,BYX,IEX,EDGX,FOXRIVER,PEARL,NYSENAT,LTSE,MEMX,IBEOS,OVERNIGHT,TPLUS0,PSX', priceMagnifier=1, underConId=0, longName='APPLE INC', contractMonth='', industry='Technology', category='Computers', subcategory='Computers', timeZoneId='US/Eastern', tradingHours='20240530:2000-20240531:0350;20240601:CLOSED;20240602:2000-20240603:0350;20240603:2000-20240604:0350;20240604:2000-20240605:0350;20240605:2000-20240606:0350', liquidHours='20240530:2000-20240531:0350;20240601:CLOSED;20240602:2000-20240603:0350;20240603:2000-20240604:0350;20240604:2000-20240605:0350;20240605:2000-20240606:0350', evRule='', evMultiplier=0, mdSizeMultiplier=1, aggGroup=2147483647, underSymbol='', underSecType='', marketRuleIds='26,26,26,26,26,26,26,26,26,26,26,26,26,26,26,26,26,26,26,26,26,26,26,26,26', secIdList=[TagValue(tag='ISIN', value='US0378331005')], realExpirationDate='', lastTradeTime='', stockType='COMMON', minSize=0.0001, sizeIncrement=0.0001, suggestedSizeIncrement=100.0, cusip='', ratings='', descAppend='', bondType='', couponType='', callable=False, putable=False, coupon=0, convertible=False, maturity='', issueDate='', nextOptionDate='', nextOptionType='', nextOptionPartial=False, notes=''),\n",
       " ContractDetails(contract=Contract(secType='STK', conId=265598, symbol='AAPL', exchange='TPLUS0', primaryExchange='NASDAQ', currency='USD', localSymbol='AAPL', tradingClass='NMS'), marketName='NMS', minTick=0.01, orderTypes='AD,ALERT,ALLOC,AVGCOST,BASKET,BENCHPX,CASHQTY,CONDORDER,DAY,DEACT,DEACTDIS,LMT,MKT,NONALGO,NOT2D,WHATIF', validExchanges='SMART,AMEX,NYSE,CBOE,PHLX,ISE,CHX,ARCA,NASDAQ,DRCTEDGE,BEX,BATS,EDGEA,BYX,IEX,EDGX,FOXRIVER,PEARL,NYSENAT,LTSE,MEMX,IBEOS,OVERNIGHT,TPLUS0,PSX', priceMagnifier=1, underConId=0, longName='APPLE INC', contractMonth='', industry='Technology', category='Computers', subcategory='Computers', timeZoneId='US/Eastern', tradingHours='20240531:0930-20240531:1200;20240601:CLOSED;20240602:CLOSED;20240603:0930-20240603:1200;20240604:0930-20240604:1200;20240605:0930-20240605:1200', liquidHours='20240531:0930-20240531:1200;20240601:CLOSED;20240602:CLOSED;20240603:0930-20240603:1200;20240604:0930-20240604:1200;20240605:0930-20240605:1200', evRule='', evMultiplier=0, mdSizeMultiplier=1, aggGroup=2147483647, underSymbol='', underSecType='', marketRuleIds='26,26,26,26,26,26,26,26,26,26,26,26,26,26,26,26,26,26,26,26,26,26,26,26,26', secIdList=[TagValue(tag='ISIN', value='US0378331005')], realExpirationDate='', lastTradeTime='', stockType='COMMON', minSize=0.0001, sizeIncrement=0.0001, suggestedSizeIncrement=100.0, cusip='', ratings='', descAppend='', bondType='', couponType='', callable=False, putable=False, coupon=0, convertible=False, maturity='', issueDate='', nextOptionDate='', nextOptionType='', nextOptionPartial=False, notes=''),\n",
       " ContractDetails(contract=Contract(secType='STK', conId=265598, symbol='AAPL', exchange='PSX', primaryExchange='NASDAQ', currency='USD', localSymbol='AAPL', tradingClass='NMS'), marketName='NMS', minTick=0.01, orderTypes='ACTIVETIM,AD,ADJUST,ALERT,ALLOC,AON,AVGCOST,BASKET,BENCHPX,CASHQTY,COND,CONDORDER,DAY,DEACT,DEACTDIS,DEACTEOD,GAT,GTC,GTD,GTT,HID,LIT,LMT,MIT,MKT,MTL,NGCOMB,NONALGO,OCA,PEGBENCH,RTH,SCALE,SCALERST,SNAPMID,SNAPMKT,SNAPREL,STP,STPLMT,TRAIL,TRAILLIT,TRAILLMT,TRAILMIT,WHATIF', validExchanges='SMART,AMEX,NYSE,CBOE,PHLX,ISE,CHX,ARCA,NASDAQ,DRCTEDGE,BEX,BATS,EDGEA,BYX,IEX,EDGX,FOXRIVER,PEARL,NYSENAT,LTSE,MEMX,IBEOS,OVERNIGHT,TPLUS0,PSX', priceMagnifier=1, underConId=0, longName='APPLE INC', contractMonth='', industry='Technology', category='Computers', subcategory='Computers', timeZoneId='US/Eastern', tradingHours='20240531:0800-20240531:1700;20240601:CLOSED;20240602:CLOSED;20240603:0800-20240603:1700;20240604:0800-20240604:1700;20240605:0800-20240605:1700', liquidHours='20240531:0930-20240531:1600;20240601:CLOSED;20240602:CLOSED;20240603:0930-20240603:1600;20240604:0930-20240604:1600;20240605:0930-20240605:1600', evRule='', evMultiplier=0, mdSizeMultiplier=1, aggGroup=1, underSymbol='', underSecType='', marketRuleIds='26,26,26,26,26,26,26,26,26,26,26,26,26,26,26,26,26,26,26,26,26,26,26,26,26', secIdList=[TagValue(tag='ISIN', value='US0378331005')], realExpirationDate='', lastTradeTime='', stockType='COMMON', minSize=0.0001, sizeIncrement=0.0001, suggestedSizeIncrement=100.0, cusip='', ratings='', descAppend='', bondType='', couponType='', callable=False, putable=False, coupon=0, convertible=False, maturity='', issueDate='', nextOptionDate='', nextOptionType='', nextOptionPartial=False, notes=''),\n",
       " ContractDetails(contract=Contract(secType='STK', conId=38708077, symbol='AAPL', exchange='MEXI', primaryExchange='MEXI', currency='MXN', localSymbol='AAPL', tradingClass='AAPL'), marketName='AAPL', minTick=0.01, orderTypes='ACTIVETIM,AD,ADJUST,ALERT,ALLOC,AVGCOST,BASKET,BENCHPX,CASHQTY,COND,CONDORDER,DAY,DEACT,DEACTDIS,DEACTEOD,GAT,GTC,GTD,GTT,HID,LIT,LMT,MIT,MKT,MTL,NGCOMB,NONALGO,OCA,PEGBENCH,SCALE,SCALERST,SNAPMID,SNAPMKT,SNAPREL,STP,STPLMT,TRAIL,TRAILLIT,TRAILLMT,TRAILMIT,WHATIF', validExchanges='MEXI', priceMagnifier=1, underConId=0, longName='APPLE INC', contractMonth='', industry='Technology', category='Computers', subcategory='Computers', timeZoneId='US/Central', tradingHours='20240531:0830-20240531:1500;20240601:CLOSED;20240602:CLOSED;20240603:0830-20240603:1500;20240604:0830-20240604:1500;20240605:0830-20240605:1500', liquidHours='20240531:0830-20240531:1500;20240601:CLOSED;20240602:CLOSED;20240603:0830-20240603:1500;20240604:0830-20240604:1500;20240605:0830-20240605:1500', evRule='', evMultiplier=0, mdSizeMultiplier=1, aggGroup=2147483647, underSymbol='', underSecType='', marketRuleIds='26', secIdList=[TagValue(tag='ISIN', value='US0378331005')], realExpirationDate='', lastTradeTime='', stockType='COMMON', minSize=100.0, sizeIncrement=100.0, suggestedSizeIncrement=100.0, cusip='', ratings='', descAppend='', bondType='', couponType='', callable=False, putable=False, coupon=0, convertible=False, maturity='', issueDate='', nextOptionDate='', nextOptionType='', nextOptionPartial=False, notes=''),\n",
       " ContractDetails(contract=Contract(secType='STK', conId=273982664, symbol='AAPL', exchange='EBS', primaryExchange='EBS', currency='CHF', localSymbol='AAPL', tradingClass='AAPL'), marketName='AAPL', minTick=0.001, orderTypes='ACTIVETIM,AD,ADJUST,ALERT,ALGOCLS,ALLOC,AVGCOST,BASKET,BENCHPX,CASHQTY,COND,CONDORDER,DAY,DEACT,DEACTDIS,DEACTEOD,GAT,GTC,GTD,GTT,HID,IOC,LIT,LMT,MIT,MKT,MTL,NGCOMB,NONALGO,OCA,PEGBENCH,RTH,RTH4MKT,SCALE,SCALERST,SNAPMID,SNAPMKT,SNAPREL,STP,STPLMT,TRAIL,TRAILLIT,TRAILLMT,TRAILMIT,WHATIF', validExchanges='SMART,EBS', priceMagnifier=1, underConId=0, longName='APPLE INC', contractMonth='', industry='Technology', category='Computers', subcategory='Computers', timeZoneId='MET', tradingHours='20240531:0900-20240531:1732;20240601:CLOSED;20240602:CLOSED;20240603:0900-20240603:1732;20240604:0900-20240604:1732;20240605:0900-20240605:1732', liquidHours='20240531:0900-20240531:1720;20240601:CLOSED;20240602:CLOSED;20240603:0900-20240603:1720;20240604:0900-20240604:1720;20240605:0900-20240605:1720', evRule='', evMultiplier=0, mdSizeMultiplier=1, aggGroup=6, underSymbol='', underSecType='', marketRuleIds='579,579', secIdList=[TagValue(tag='ISIN', value='US0378331005')], realExpirationDate='', lastTradeTime='', stockType='COMMON', minSize=1.0, sizeIncrement=1.0, suggestedSizeIncrement=1.0, cusip='', ratings='', descAppend='', bondType='', couponType='', callable=False, putable=False, coupon=0, convertible=False, maturity='', issueDate='', nextOptionDate='', nextOptionType='', nextOptionPartial=False, notes=''),\n",
       " ContractDetails(contract=Contract(secType='STK', conId=493546048, symbol='AAPL', exchange='LSEETF', primaryExchange='LSEETF', currency='GBP', localSymbol='AAPL', tradingClass='ECE2'), marketName='ECE2', minTick=0.0005, orderTypes='ACTIVETIM,AD,ADJUST,ALERT,ALLOC,AVGCOST,BASKET,BENCHPX,CASHQTY,COND,CONDORDER,DAY,DEACT,DEACTDIS,DEACTEOD,GAT,GTC,GTD,GTT,HID,LIT,LMT,MIT,MKT,MTL,NGCOMB,NONALGO,OCA,PEGBENCH,RTH,RTH4MKT,SCALE,SCALERST,SNAPMID,SNAPMKT,SNAPREL,STP,STPLMT,TRAIL,TRAILLIT,TRAILLMT,TRAILMIT,WHATIF', validExchanges='SMART,LSEETF', priceMagnifier=100, underConId=0, longName='LS 1X AAPL', contractMonth='', industry='', category='', subcategory='', timeZoneId='MET', tradingHours='20240531:0900-20240531:1750;20240601:CLOSED;20240602:CLOSED;20240603:0900-20240603:1750;20240604:0900-20240604:1750;20240605:0900-20240605:1750', liquidHours='20240531:0900-20240531:1750;20240601:CLOSED;20240602:CLOSED;20240603:0900-20240603:1750;20240604:0900-20240604:1750;20240605:0900-20240605:1750', evRule='', evMultiplier=0, mdSizeMultiplier=1, aggGroup=3, underSymbol='', underSecType='', marketRuleIds='532,532', secIdList=[TagValue(tag='ISIN', value='XS2337099563')], realExpirationDate='', lastTradeTime='', stockType='ETC', minSize=1.0, sizeIncrement=1.0, suggestedSizeIncrement=1.0, cusip='', ratings='', descAppend='', bondType='', couponType='', callable=False, putable=False, coupon=0, convertible=False, maturity='', issueDate='', nextOptionDate='', nextOptionType='', nextOptionPartial=False, notes='')]"
      ]
     },
     "execution_count": 7,
     "metadata": {},
     "output_type": "execute_result"
    }
   ],
   "source": [
    "cds = ib.reqContractDetails(contract)\n",
    "cds"
   ]
  },
  {
   "cell_type": "code",
   "execution_count": 8,
   "id": "2c14884d-2f53-4c5c-8fd6-02023ae3f20b",
   "metadata": {
    "tags": []
   },
   "outputs": [
    {
     "data": {
      "text/plain": [
       "31"
      ]
     },
     "execution_count": 8,
     "metadata": {},
     "output_type": "execute_result"
    }
   ],
   "source": [
    "len(cds)"
   ]
  },
  {
   "cell_type": "code",
   "execution_count": 9,
   "id": "63957c80-99e5-4741-8a99-bf3dbe74e251",
   "metadata": {
    "tags": []
   },
   "outputs": [
    {
     "data": {
      "text/plain": [
       "[Contract(secType='STK', conId=265598, symbol='AAPL', exchange='SMART', primaryExchange='NASDAQ', currency='USD', localSymbol='AAPL', tradingClass='NMS'),\n",
       " Contract(secType='STK', conId=273982664, symbol='AAPL', exchange='SMART', primaryExchange='EBS', currency='CHF', localSymbol='AAPL', tradingClass='AAPL'),\n",
       " Contract(secType='STK', conId=493546048, symbol='AAPL', exchange='SMART', primaryExchange='LSEETF', currency='GBP', localSymbol='AAPL', tradingClass='ECE2'),\n",
       " Contract(secType='STK', conId=532640894, symbol='AAPL', exchange='SMART', primaryExchange='AEQLIT', currency='CAD', localSymbol='AAPL', tradingClass='AAPL'),\n",
       " Contract(secType='STK', conId=265598, symbol='AAPL', exchange='AMEX', primaryExchange='NASDAQ', currency='USD', localSymbol='AAPL', tradingClass='NMS'),\n",
       " Contract(secType='STK', conId=265598, symbol='AAPL', exchange='NYSE', primaryExchange='NASDAQ', currency='USD', localSymbol='AAPL', tradingClass='NMS'),\n",
       " Contract(secType='STK', conId=265598, symbol='AAPL', exchange='CBOE', primaryExchange='NASDAQ', currency='USD', localSymbol='AAPL', tradingClass='NMS'),\n",
       " Contract(secType='STK', conId=265598, symbol='AAPL', exchange='PHLX', primaryExchange='NASDAQ', currency='USD', localSymbol='AAPL', tradingClass='NMS'),\n",
       " Contract(secType='STK', conId=265598, symbol='AAPL', exchange='ISE', primaryExchange='NASDAQ', currency='USD', localSymbol='AAPL', tradingClass='NMS'),\n",
       " Contract(secType='STK', conId=265598, symbol='AAPL', exchange='CHX', primaryExchange='NASDAQ', currency='USD', localSymbol='AAPL', tradingClass='NMS'),\n",
       " Contract(secType='STK', conId=265598, symbol='AAPL', exchange='ARCA', primaryExchange='NASDAQ', currency='USD', localSymbol='AAPL', tradingClass='NMS'),\n",
       " Contract(secType='STK', conId=265598, symbol='AAPL', exchange='NASDAQ', primaryExchange='NASDAQ', currency='USD', localSymbol='AAPL', tradingClass='NMS'),\n",
       " Contract(secType='STK', conId=265598, symbol='AAPL', exchange='DRCTEDGE', primaryExchange='NASDAQ', currency='USD', localSymbol='AAPL', tradingClass='NMS'),\n",
       " Contract(secType='STK', conId=265598, symbol='AAPL', exchange='BEX', primaryExchange='NASDAQ', currency='USD', localSymbol='AAPL', tradingClass='NMS'),\n",
       " Contract(secType='STK', conId=265598, symbol='AAPL', exchange='BATS', primaryExchange='NASDAQ', currency='USD', localSymbol='AAPL', tradingClass='NMS'),\n",
       " Contract(secType='STK', conId=265598, symbol='AAPL', exchange='EDGEA', primaryExchange='NASDAQ', currency='USD', localSymbol='AAPL', tradingClass='NMS'),\n",
       " Contract(secType='STK', conId=265598, symbol='AAPL', exchange='BYX', primaryExchange='NASDAQ', currency='USD', localSymbol='AAPL', tradingClass='NMS'),\n",
       " Contract(secType='STK', conId=265598, symbol='AAPL', exchange='IEX', primaryExchange='NASDAQ', currency='USD', localSymbol='AAPL', tradingClass='NMS'),\n",
       " Contract(secType='STK', conId=265598, symbol='AAPL', exchange='EDGX', primaryExchange='NASDAQ', currency='USD', localSymbol='AAPL', tradingClass='NMS'),\n",
       " Contract(secType='STK', conId=265598, symbol='AAPL', exchange='FOXRIVER', primaryExchange='NASDAQ', currency='USD', localSymbol='AAPL', tradingClass='NMS'),\n",
       " Contract(secType='STK', conId=265598, symbol='AAPL', exchange='PEARL', primaryExchange='NASDAQ', currency='USD', localSymbol='AAPL', tradingClass='NMS'),\n",
       " Contract(secType='STK', conId=265598, symbol='AAPL', exchange='NYSENAT', primaryExchange='NASDAQ', currency='USD', localSymbol='AAPL', tradingClass='NMS'),\n",
       " Contract(secType='STK', conId=265598, symbol='AAPL', exchange='LTSE', primaryExchange='NASDAQ', currency='USD', localSymbol='AAPL', tradingClass='NMS'),\n",
       " Contract(secType='STK', conId=265598, symbol='AAPL', exchange='MEMX', primaryExchange='NASDAQ', currency='USD', localSymbol='AAPL', tradingClass='NMS'),\n",
       " Contract(secType='STK', conId=265598, symbol='AAPL', exchange='IBEOS', primaryExchange='NASDAQ', currency='USD', localSymbol='AAPL', tradingClass='NMS'),\n",
       " Contract(secType='STK', conId=265598, symbol='AAPL', exchange='OVERNIGHT', primaryExchange='NASDAQ', currency='USD', localSymbol='AAPL', tradingClass='NMS'),\n",
       " Contract(secType='STK', conId=265598, symbol='AAPL', exchange='TPLUS0', primaryExchange='NASDAQ', currency='USD', localSymbol='AAPL', tradingClass='NMS'),\n",
       " Contract(secType='STK', conId=265598, symbol='AAPL', exchange='PSX', primaryExchange='NASDAQ', currency='USD', localSymbol='AAPL', tradingClass='NMS'),\n",
       " Contract(secType='STK', conId=38708077, symbol='AAPL', exchange='MEXI', primaryExchange='MEXI', currency='MXN', localSymbol='AAPL', tradingClass='AAPL'),\n",
       " Contract(secType='STK', conId=273982664, symbol='AAPL', exchange='EBS', primaryExchange='EBS', currency='CHF', localSymbol='AAPL', tradingClass='AAPL'),\n",
       " Contract(secType='STK', conId=493546048, symbol='AAPL', exchange='LSEETF', primaryExchange='LSEETF', currency='GBP', localSymbol='AAPL', tradingClass='ECE2')]"
      ]
     },
     "execution_count": 9,
     "metadata": {},
     "output_type": "execute_result"
    }
   ],
   "source": [
    "contracts = [cd.contract for cd in cds]\n",
    "contracts"
   ]
  },
  {
   "cell_type": "code",
   "execution_count": 11,
   "id": "9e49e18a-f286-4be7-a25d-bcaae4e54ef7",
   "metadata": {
    "tags": []
   },
   "outputs": [
    {
     "data": {
      "text/html": [
       "<div>\n",
       "<style scoped>\n",
       "    .dataframe tbody tr th:only-of-type {\n",
       "        vertical-align: middle;\n",
       "    }\n",
       "\n",
       "    .dataframe tbody tr th {\n",
       "        vertical-align: top;\n",
       "    }\n",
       "\n",
       "    .dataframe thead th {\n",
       "        text-align: right;\n",
       "    }\n",
       "</style>\n",
       "<table border=\"1\" class=\"dataframe\">\n",
       "  <thead>\n",
       "    <tr style=\"text-align: right;\">\n",
       "      <th></th>\n",
       "      <th>secType</th>\n",
       "      <th>conId</th>\n",
       "      <th>symbol</th>\n",
       "      <th>lastTradeDateOrContractMonth</th>\n",
       "      <th>strike</th>\n",
       "      <th>right</th>\n",
       "      <th>multiplier</th>\n",
       "      <th>exchange</th>\n",
       "      <th>primaryExchange</th>\n",
       "      <th>currency</th>\n",
       "      <th>localSymbol</th>\n",
       "      <th>tradingClass</th>\n",
       "      <th>includeExpired</th>\n",
       "      <th>secIdType</th>\n",
       "      <th>secId</th>\n",
       "      <th>description</th>\n",
       "      <th>issuerId</th>\n",
       "      <th>comboLegsDescrip</th>\n",
       "      <th>comboLegs</th>\n",
       "      <th>deltaNeutralContract</th>\n",
       "    </tr>\n",
       "  </thead>\n",
       "  <tbody>\n",
       "    <tr>\n",
       "      <th>0</th>\n",
       "      <td>STK</td>\n",
       "      <td>265598</td>\n",
       "      <td>AAPL</td>\n",
       "      <td></td>\n",
       "      <td>0.0</td>\n",
       "      <td></td>\n",
       "      <td></td>\n",
       "      <td>SMART</td>\n",
       "      <td>NASDAQ</td>\n",
       "      <td>USD</td>\n",
       "      <td>AAPL</td>\n",
       "      <td>NMS</td>\n",
       "      <td>False</td>\n",
       "      <td></td>\n",
       "      <td></td>\n",
       "      <td></td>\n",
       "      <td></td>\n",
       "      <td></td>\n",
       "      <td>[]</td>\n",
       "      <td>None</td>\n",
       "    </tr>\n",
       "    <tr>\n",
       "      <th>1</th>\n",
       "      <td>STK</td>\n",
       "      <td>273982664</td>\n",
       "      <td>AAPL</td>\n",
       "      <td></td>\n",
       "      <td>0.0</td>\n",
       "      <td></td>\n",
       "      <td></td>\n",
       "      <td>SMART</td>\n",
       "      <td>EBS</td>\n",
       "      <td>CHF</td>\n",
       "      <td>AAPL</td>\n",
       "      <td>AAPL</td>\n",
       "      <td>False</td>\n",
       "      <td></td>\n",
       "      <td></td>\n",
       "      <td></td>\n",
       "      <td></td>\n",
       "      <td></td>\n",
       "      <td>[]</td>\n",
       "      <td>None</td>\n",
       "    </tr>\n",
       "    <tr>\n",
       "      <th>2</th>\n",
       "      <td>STK</td>\n",
       "      <td>493546048</td>\n",
       "      <td>AAPL</td>\n",
       "      <td></td>\n",
       "      <td>0.0</td>\n",
       "      <td></td>\n",
       "      <td></td>\n",
       "      <td>SMART</td>\n",
       "      <td>LSEETF</td>\n",
       "      <td>GBP</td>\n",
       "      <td>AAPL</td>\n",
       "      <td>ECE2</td>\n",
       "      <td>False</td>\n",
       "      <td></td>\n",
       "      <td></td>\n",
       "      <td></td>\n",
       "      <td></td>\n",
       "      <td></td>\n",
       "      <td>[]</td>\n",
       "      <td>None</td>\n",
       "    </tr>\n",
       "    <tr>\n",
       "      <th>3</th>\n",
       "      <td>STK</td>\n",
       "      <td>532640894</td>\n",
       "      <td>AAPL</td>\n",
       "      <td></td>\n",
       "      <td>0.0</td>\n",
       "      <td></td>\n",
       "      <td></td>\n",
       "      <td>SMART</td>\n",
       "      <td>AEQLIT</td>\n",
       "      <td>CAD</td>\n",
       "      <td>AAPL</td>\n",
       "      <td>AAPL</td>\n",
       "      <td>False</td>\n",
       "      <td></td>\n",
       "      <td></td>\n",
       "      <td></td>\n",
       "      <td></td>\n",
       "      <td></td>\n",
       "      <td>[]</td>\n",
       "      <td>None</td>\n",
       "    </tr>\n",
       "    <tr>\n",
       "      <th>4</th>\n",
       "      <td>STK</td>\n",
       "      <td>265598</td>\n",
       "      <td>AAPL</td>\n",
       "      <td></td>\n",
       "      <td>0.0</td>\n",
       "      <td></td>\n",
       "      <td></td>\n",
       "      <td>AMEX</td>\n",
       "      <td>NASDAQ</td>\n",
       "      <td>USD</td>\n",
       "      <td>AAPL</td>\n",
       "      <td>NMS</td>\n",
       "      <td>False</td>\n",
       "      <td></td>\n",
       "      <td></td>\n",
       "      <td></td>\n",
       "      <td></td>\n",
       "      <td></td>\n",
       "      <td>[]</td>\n",
       "      <td>None</td>\n",
       "    </tr>\n",
       "    <tr>\n",
       "      <th>5</th>\n",
       "      <td>STK</td>\n",
       "      <td>265598</td>\n",
       "      <td>AAPL</td>\n",
       "      <td></td>\n",
       "      <td>0.0</td>\n",
       "      <td></td>\n",
       "      <td></td>\n",
       "      <td>NYSE</td>\n",
       "      <td>NASDAQ</td>\n",
       "      <td>USD</td>\n",
       "      <td>AAPL</td>\n",
       "      <td>NMS</td>\n",
       "      <td>False</td>\n",
       "      <td></td>\n",
       "      <td></td>\n",
       "      <td></td>\n",
       "      <td></td>\n",
       "      <td></td>\n",
       "      <td>[]</td>\n",
       "      <td>None</td>\n",
       "    </tr>\n",
       "    <tr>\n",
       "      <th>6</th>\n",
       "      <td>STK</td>\n",
       "      <td>265598</td>\n",
       "      <td>AAPL</td>\n",
       "      <td></td>\n",
       "      <td>0.0</td>\n",
       "      <td></td>\n",
       "      <td></td>\n",
       "      <td>CBOE</td>\n",
       "      <td>NASDAQ</td>\n",
       "      <td>USD</td>\n",
       "      <td>AAPL</td>\n",
       "      <td>NMS</td>\n",
       "      <td>False</td>\n",
       "      <td></td>\n",
       "      <td></td>\n",
       "      <td></td>\n",
       "      <td></td>\n",
       "      <td></td>\n",
       "      <td>[]</td>\n",
       "      <td>None</td>\n",
       "    </tr>\n",
       "    <tr>\n",
       "      <th>7</th>\n",
       "      <td>STK</td>\n",
       "      <td>265598</td>\n",
       "      <td>AAPL</td>\n",
       "      <td></td>\n",
       "      <td>0.0</td>\n",
       "      <td></td>\n",
       "      <td></td>\n",
       "      <td>PHLX</td>\n",
       "      <td>NASDAQ</td>\n",
       "      <td>USD</td>\n",
       "      <td>AAPL</td>\n",
       "      <td>NMS</td>\n",
       "      <td>False</td>\n",
       "      <td></td>\n",
       "      <td></td>\n",
       "      <td></td>\n",
       "      <td></td>\n",
       "      <td></td>\n",
       "      <td>[]</td>\n",
       "      <td>None</td>\n",
       "    </tr>\n",
       "    <tr>\n",
       "      <th>8</th>\n",
       "      <td>STK</td>\n",
       "      <td>265598</td>\n",
       "      <td>AAPL</td>\n",
       "      <td></td>\n",
       "      <td>0.0</td>\n",
       "      <td></td>\n",
       "      <td></td>\n",
       "      <td>ISE</td>\n",
       "      <td>NASDAQ</td>\n",
       "      <td>USD</td>\n",
       "      <td>AAPL</td>\n",
       "      <td>NMS</td>\n",
       "      <td>False</td>\n",
       "      <td></td>\n",
       "      <td></td>\n",
       "      <td></td>\n",
       "      <td></td>\n",
       "      <td></td>\n",
       "      <td>[]</td>\n",
       "      <td>None</td>\n",
       "    </tr>\n",
       "    <tr>\n",
       "      <th>9</th>\n",
       "      <td>STK</td>\n",
       "      <td>265598</td>\n",
       "      <td>AAPL</td>\n",
       "      <td></td>\n",
       "      <td>0.0</td>\n",
       "      <td></td>\n",
       "      <td></td>\n",
       "      <td>CHX</td>\n",
       "      <td>NASDAQ</td>\n",
       "      <td>USD</td>\n",
       "      <td>AAPL</td>\n",
       "      <td>NMS</td>\n",
       "      <td>False</td>\n",
       "      <td></td>\n",
       "      <td></td>\n",
       "      <td></td>\n",
       "      <td></td>\n",
       "      <td></td>\n",
       "      <td>[]</td>\n",
       "      <td>None</td>\n",
       "    </tr>\n",
       "    <tr>\n",
       "      <th>10</th>\n",
       "      <td>STK</td>\n",
       "      <td>265598</td>\n",
       "      <td>AAPL</td>\n",
       "      <td></td>\n",
       "      <td>0.0</td>\n",
       "      <td></td>\n",
       "      <td></td>\n",
       "      <td>ARCA</td>\n",
       "      <td>NASDAQ</td>\n",
       "      <td>USD</td>\n",
       "      <td>AAPL</td>\n",
       "      <td>NMS</td>\n",
       "      <td>False</td>\n",
       "      <td></td>\n",
       "      <td></td>\n",
       "      <td></td>\n",
       "      <td></td>\n",
       "      <td></td>\n",
       "      <td>[]</td>\n",
       "      <td>None</td>\n",
       "    </tr>\n",
       "    <tr>\n",
       "      <th>11</th>\n",
       "      <td>STK</td>\n",
       "      <td>265598</td>\n",
       "      <td>AAPL</td>\n",
       "      <td></td>\n",
       "      <td>0.0</td>\n",
       "      <td></td>\n",
       "      <td></td>\n",
       "      <td>NASDAQ</td>\n",
       "      <td>NASDAQ</td>\n",
       "      <td>USD</td>\n",
       "      <td>AAPL</td>\n",
       "      <td>NMS</td>\n",
       "      <td>False</td>\n",
       "      <td></td>\n",
       "      <td></td>\n",
       "      <td></td>\n",
       "      <td></td>\n",
       "      <td></td>\n",
       "      <td>[]</td>\n",
       "      <td>None</td>\n",
       "    </tr>\n",
       "    <tr>\n",
       "      <th>12</th>\n",
       "      <td>STK</td>\n",
       "      <td>265598</td>\n",
       "      <td>AAPL</td>\n",
       "      <td></td>\n",
       "      <td>0.0</td>\n",
       "      <td></td>\n",
       "      <td></td>\n",
       "      <td>DRCTEDGE</td>\n",
       "      <td>NASDAQ</td>\n",
       "      <td>USD</td>\n",
       "      <td>AAPL</td>\n",
       "      <td>NMS</td>\n",
       "      <td>False</td>\n",
       "      <td></td>\n",
       "      <td></td>\n",
       "      <td></td>\n",
       "      <td></td>\n",
       "      <td></td>\n",
       "      <td>[]</td>\n",
       "      <td>None</td>\n",
       "    </tr>\n",
       "    <tr>\n",
       "      <th>13</th>\n",
       "      <td>STK</td>\n",
       "      <td>265598</td>\n",
       "      <td>AAPL</td>\n",
       "      <td></td>\n",
       "      <td>0.0</td>\n",
       "      <td></td>\n",
       "      <td></td>\n",
       "      <td>BEX</td>\n",
       "      <td>NASDAQ</td>\n",
       "      <td>USD</td>\n",
       "      <td>AAPL</td>\n",
       "      <td>NMS</td>\n",
       "      <td>False</td>\n",
       "      <td></td>\n",
       "      <td></td>\n",
       "      <td></td>\n",
       "      <td></td>\n",
       "      <td></td>\n",
       "      <td>[]</td>\n",
       "      <td>None</td>\n",
       "    </tr>\n",
       "    <tr>\n",
       "      <th>14</th>\n",
       "      <td>STK</td>\n",
       "      <td>265598</td>\n",
       "      <td>AAPL</td>\n",
       "      <td></td>\n",
       "      <td>0.0</td>\n",
       "      <td></td>\n",
       "      <td></td>\n",
       "      <td>BATS</td>\n",
       "      <td>NASDAQ</td>\n",
       "      <td>USD</td>\n",
       "      <td>AAPL</td>\n",
       "      <td>NMS</td>\n",
       "      <td>False</td>\n",
       "      <td></td>\n",
       "      <td></td>\n",
       "      <td></td>\n",
       "      <td></td>\n",
       "      <td></td>\n",
       "      <td>[]</td>\n",
       "      <td>None</td>\n",
       "    </tr>\n",
       "    <tr>\n",
       "      <th>15</th>\n",
       "      <td>STK</td>\n",
       "      <td>265598</td>\n",
       "      <td>AAPL</td>\n",
       "      <td></td>\n",
       "      <td>0.0</td>\n",
       "      <td></td>\n",
       "      <td></td>\n",
       "      <td>EDGEA</td>\n",
       "      <td>NASDAQ</td>\n",
       "      <td>USD</td>\n",
       "      <td>AAPL</td>\n",
       "      <td>NMS</td>\n",
       "      <td>False</td>\n",
       "      <td></td>\n",
       "      <td></td>\n",
       "      <td></td>\n",
       "      <td></td>\n",
       "      <td></td>\n",
       "      <td>[]</td>\n",
       "      <td>None</td>\n",
       "    </tr>\n",
       "    <tr>\n",
       "      <th>16</th>\n",
       "      <td>STK</td>\n",
       "      <td>265598</td>\n",
       "      <td>AAPL</td>\n",
       "      <td></td>\n",
       "      <td>0.0</td>\n",
       "      <td></td>\n",
       "      <td></td>\n",
       "      <td>BYX</td>\n",
       "      <td>NASDAQ</td>\n",
       "      <td>USD</td>\n",
       "      <td>AAPL</td>\n",
       "      <td>NMS</td>\n",
       "      <td>False</td>\n",
       "      <td></td>\n",
       "      <td></td>\n",
       "      <td></td>\n",
       "      <td></td>\n",
       "      <td></td>\n",
       "      <td>[]</td>\n",
       "      <td>None</td>\n",
       "    </tr>\n",
       "    <tr>\n",
       "      <th>17</th>\n",
       "      <td>STK</td>\n",
       "      <td>265598</td>\n",
       "      <td>AAPL</td>\n",
       "      <td></td>\n",
       "      <td>0.0</td>\n",
       "      <td></td>\n",
       "      <td></td>\n",
       "      <td>IEX</td>\n",
       "      <td>NASDAQ</td>\n",
       "      <td>USD</td>\n",
       "      <td>AAPL</td>\n",
       "      <td>NMS</td>\n",
       "      <td>False</td>\n",
       "      <td></td>\n",
       "      <td></td>\n",
       "      <td></td>\n",
       "      <td></td>\n",
       "      <td></td>\n",
       "      <td>[]</td>\n",
       "      <td>None</td>\n",
       "    </tr>\n",
       "    <tr>\n",
       "      <th>18</th>\n",
       "      <td>STK</td>\n",
       "      <td>265598</td>\n",
       "      <td>AAPL</td>\n",
       "      <td></td>\n",
       "      <td>0.0</td>\n",
       "      <td></td>\n",
       "      <td></td>\n",
       "      <td>EDGX</td>\n",
       "      <td>NASDAQ</td>\n",
       "      <td>USD</td>\n",
       "      <td>AAPL</td>\n",
       "      <td>NMS</td>\n",
       "      <td>False</td>\n",
       "      <td></td>\n",
       "      <td></td>\n",
       "      <td></td>\n",
       "      <td></td>\n",
       "      <td></td>\n",
       "      <td>[]</td>\n",
       "      <td>None</td>\n",
       "    </tr>\n",
       "    <tr>\n",
       "      <th>19</th>\n",
       "      <td>STK</td>\n",
       "      <td>265598</td>\n",
       "      <td>AAPL</td>\n",
       "      <td></td>\n",
       "      <td>0.0</td>\n",
       "      <td></td>\n",
       "      <td></td>\n",
       "      <td>FOXRIVER</td>\n",
       "      <td>NASDAQ</td>\n",
       "      <td>USD</td>\n",
       "      <td>AAPL</td>\n",
       "      <td>NMS</td>\n",
       "      <td>False</td>\n",
       "      <td></td>\n",
       "      <td></td>\n",
       "      <td></td>\n",
       "      <td></td>\n",
       "      <td></td>\n",
       "      <td>[]</td>\n",
       "      <td>None</td>\n",
       "    </tr>\n",
       "    <tr>\n",
       "      <th>20</th>\n",
       "      <td>STK</td>\n",
       "      <td>265598</td>\n",
       "      <td>AAPL</td>\n",
       "      <td></td>\n",
       "      <td>0.0</td>\n",
       "      <td></td>\n",
       "      <td></td>\n",
       "      <td>PEARL</td>\n",
       "      <td>NASDAQ</td>\n",
       "      <td>USD</td>\n",
       "      <td>AAPL</td>\n",
       "      <td>NMS</td>\n",
       "      <td>False</td>\n",
       "      <td></td>\n",
       "      <td></td>\n",
       "      <td></td>\n",
       "      <td></td>\n",
       "      <td></td>\n",
       "      <td>[]</td>\n",
       "      <td>None</td>\n",
       "    </tr>\n",
       "    <tr>\n",
       "      <th>21</th>\n",
       "      <td>STK</td>\n",
       "      <td>265598</td>\n",
       "      <td>AAPL</td>\n",
       "      <td></td>\n",
       "      <td>0.0</td>\n",
       "      <td></td>\n",
       "      <td></td>\n",
       "      <td>NYSENAT</td>\n",
       "      <td>NASDAQ</td>\n",
       "      <td>USD</td>\n",
       "      <td>AAPL</td>\n",
       "      <td>NMS</td>\n",
       "      <td>False</td>\n",
       "      <td></td>\n",
       "      <td></td>\n",
       "      <td></td>\n",
       "      <td></td>\n",
       "      <td></td>\n",
       "      <td>[]</td>\n",
       "      <td>None</td>\n",
       "    </tr>\n",
       "    <tr>\n",
       "      <th>22</th>\n",
       "      <td>STK</td>\n",
       "      <td>265598</td>\n",
       "      <td>AAPL</td>\n",
       "      <td></td>\n",
       "      <td>0.0</td>\n",
       "      <td></td>\n",
       "      <td></td>\n",
       "      <td>LTSE</td>\n",
       "      <td>NASDAQ</td>\n",
       "      <td>USD</td>\n",
       "      <td>AAPL</td>\n",
       "      <td>NMS</td>\n",
       "      <td>False</td>\n",
       "      <td></td>\n",
       "      <td></td>\n",
       "      <td></td>\n",
       "      <td></td>\n",
       "      <td></td>\n",
       "      <td>[]</td>\n",
       "      <td>None</td>\n",
       "    </tr>\n",
       "    <tr>\n",
       "      <th>23</th>\n",
       "      <td>STK</td>\n",
       "      <td>265598</td>\n",
       "      <td>AAPL</td>\n",
       "      <td></td>\n",
       "      <td>0.0</td>\n",
       "      <td></td>\n",
       "      <td></td>\n",
       "      <td>MEMX</td>\n",
       "      <td>NASDAQ</td>\n",
       "      <td>USD</td>\n",
       "      <td>AAPL</td>\n",
       "      <td>NMS</td>\n",
       "      <td>False</td>\n",
       "      <td></td>\n",
       "      <td></td>\n",
       "      <td></td>\n",
       "      <td></td>\n",
       "      <td></td>\n",
       "      <td>[]</td>\n",
       "      <td>None</td>\n",
       "    </tr>\n",
       "    <tr>\n",
       "      <th>24</th>\n",
       "      <td>STK</td>\n",
       "      <td>265598</td>\n",
       "      <td>AAPL</td>\n",
       "      <td></td>\n",
       "      <td>0.0</td>\n",
       "      <td></td>\n",
       "      <td></td>\n",
       "      <td>IBEOS</td>\n",
       "      <td>NASDAQ</td>\n",
       "      <td>USD</td>\n",
       "      <td>AAPL</td>\n",
       "      <td>NMS</td>\n",
       "      <td>False</td>\n",
       "      <td></td>\n",
       "      <td></td>\n",
       "      <td></td>\n",
       "      <td></td>\n",
       "      <td></td>\n",
       "      <td>[]</td>\n",
       "      <td>None</td>\n",
       "    </tr>\n",
       "    <tr>\n",
       "      <th>25</th>\n",
       "      <td>STK</td>\n",
       "      <td>265598</td>\n",
       "      <td>AAPL</td>\n",
       "      <td></td>\n",
       "      <td>0.0</td>\n",
       "      <td></td>\n",
       "      <td></td>\n",
       "      <td>OVERNIGHT</td>\n",
       "      <td>NASDAQ</td>\n",
       "      <td>USD</td>\n",
       "      <td>AAPL</td>\n",
       "      <td>NMS</td>\n",
       "      <td>False</td>\n",
       "      <td></td>\n",
       "      <td></td>\n",
       "      <td></td>\n",
       "      <td></td>\n",
       "      <td></td>\n",
       "      <td>[]</td>\n",
       "      <td>None</td>\n",
       "    </tr>\n",
       "    <tr>\n",
       "      <th>26</th>\n",
       "      <td>STK</td>\n",
       "      <td>265598</td>\n",
       "      <td>AAPL</td>\n",
       "      <td></td>\n",
       "      <td>0.0</td>\n",
       "      <td></td>\n",
       "      <td></td>\n",
       "      <td>TPLUS0</td>\n",
       "      <td>NASDAQ</td>\n",
       "      <td>USD</td>\n",
       "      <td>AAPL</td>\n",
       "      <td>NMS</td>\n",
       "      <td>False</td>\n",
       "      <td></td>\n",
       "      <td></td>\n",
       "      <td></td>\n",
       "      <td></td>\n",
       "      <td></td>\n",
       "      <td>[]</td>\n",
       "      <td>None</td>\n",
       "    </tr>\n",
       "    <tr>\n",
       "      <th>27</th>\n",
       "      <td>STK</td>\n",
       "      <td>265598</td>\n",
       "      <td>AAPL</td>\n",
       "      <td></td>\n",
       "      <td>0.0</td>\n",
       "      <td></td>\n",
       "      <td></td>\n",
       "      <td>PSX</td>\n",
       "      <td>NASDAQ</td>\n",
       "      <td>USD</td>\n",
       "      <td>AAPL</td>\n",
       "      <td>NMS</td>\n",
       "      <td>False</td>\n",
       "      <td></td>\n",
       "      <td></td>\n",
       "      <td></td>\n",
       "      <td></td>\n",
       "      <td></td>\n",
       "      <td>[]</td>\n",
       "      <td>None</td>\n",
       "    </tr>\n",
       "    <tr>\n",
       "      <th>28</th>\n",
       "      <td>STK</td>\n",
       "      <td>38708077</td>\n",
       "      <td>AAPL</td>\n",
       "      <td></td>\n",
       "      <td>0.0</td>\n",
       "      <td></td>\n",
       "      <td></td>\n",
       "      <td>MEXI</td>\n",
       "      <td>MEXI</td>\n",
       "      <td>MXN</td>\n",
       "      <td>AAPL</td>\n",
       "      <td>AAPL</td>\n",
       "      <td>False</td>\n",
       "      <td></td>\n",
       "      <td></td>\n",
       "      <td></td>\n",
       "      <td></td>\n",
       "      <td></td>\n",
       "      <td>[]</td>\n",
       "      <td>None</td>\n",
       "    </tr>\n",
       "    <tr>\n",
       "      <th>29</th>\n",
       "      <td>STK</td>\n",
       "      <td>273982664</td>\n",
       "      <td>AAPL</td>\n",
       "      <td></td>\n",
       "      <td>0.0</td>\n",
       "      <td></td>\n",
       "      <td></td>\n",
       "      <td>EBS</td>\n",
       "      <td>EBS</td>\n",
       "      <td>CHF</td>\n",
       "      <td>AAPL</td>\n",
       "      <td>AAPL</td>\n",
       "      <td>False</td>\n",
       "      <td></td>\n",
       "      <td></td>\n",
       "      <td></td>\n",
       "      <td></td>\n",
       "      <td></td>\n",
       "      <td>[]</td>\n",
       "      <td>None</td>\n",
       "    </tr>\n",
       "    <tr>\n",
       "      <th>30</th>\n",
       "      <td>STK</td>\n",
       "      <td>493546048</td>\n",
       "      <td>AAPL</td>\n",
       "      <td></td>\n",
       "      <td>0.0</td>\n",
       "      <td></td>\n",
       "      <td></td>\n",
       "      <td>LSEETF</td>\n",
       "      <td>LSEETF</td>\n",
       "      <td>GBP</td>\n",
       "      <td>AAPL</td>\n",
       "      <td>ECE2</td>\n",
       "      <td>False</td>\n",
       "      <td></td>\n",
       "      <td></td>\n",
       "      <td></td>\n",
       "      <td></td>\n",
       "      <td></td>\n",
       "      <td>[]</td>\n",
       "      <td>None</td>\n",
       "    </tr>\n",
       "  </tbody>\n",
       "</table>\n",
       "</div>"
      ],
      "text/plain": [
       "   secType      conId symbol lastTradeDateOrContractMonth  strike right  \\\n",
       "0      STK     265598   AAPL                                  0.0         \n",
       "1      STK  273982664   AAPL                                  0.0         \n",
       "2      STK  493546048   AAPL                                  0.0         \n",
       "3      STK  532640894   AAPL                                  0.0         \n",
       "4      STK     265598   AAPL                                  0.0         \n",
       "5      STK     265598   AAPL                                  0.0         \n",
       "6      STK     265598   AAPL                                  0.0         \n",
       "7      STK     265598   AAPL                                  0.0         \n",
       "8      STK     265598   AAPL                                  0.0         \n",
       "9      STK     265598   AAPL                                  0.0         \n",
       "10     STK     265598   AAPL                                  0.0         \n",
       "11     STK     265598   AAPL                                  0.0         \n",
       "12     STK     265598   AAPL                                  0.0         \n",
       "13     STK     265598   AAPL                                  0.0         \n",
       "14     STK     265598   AAPL                                  0.0         \n",
       "15     STK     265598   AAPL                                  0.0         \n",
       "16     STK     265598   AAPL                                  0.0         \n",
       "17     STK     265598   AAPL                                  0.0         \n",
       "18     STK     265598   AAPL                                  0.0         \n",
       "19     STK     265598   AAPL                                  0.0         \n",
       "20     STK     265598   AAPL                                  0.0         \n",
       "21     STK     265598   AAPL                                  0.0         \n",
       "22     STK     265598   AAPL                                  0.0         \n",
       "23     STK     265598   AAPL                                  0.0         \n",
       "24     STK     265598   AAPL                                  0.0         \n",
       "25     STK     265598   AAPL                                  0.0         \n",
       "26     STK     265598   AAPL                                  0.0         \n",
       "27     STK     265598   AAPL                                  0.0         \n",
       "28     STK   38708077   AAPL                                  0.0         \n",
       "29     STK  273982664   AAPL                                  0.0         \n",
       "30     STK  493546048   AAPL                                  0.0         \n",
       "\n",
       "   multiplier   exchange primaryExchange currency localSymbol tradingClass  \\\n",
       "0                  SMART          NASDAQ      USD        AAPL          NMS   \n",
       "1                  SMART             EBS      CHF        AAPL         AAPL   \n",
       "2                  SMART          LSEETF      GBP        AAPL         ECE2   \n",
       "3                  SMART          AEQLIT      CAD        AAPL         AAPL   \n",
       "4                   AMEX          NASDAQ      USD        AAPL          NMS   \n",
       "5                   NYSE          NASDAQ      USD        AAPL          NMS   \n",
       "6                   CBOE          NASDAQ      USD        AAPL          NMS   \n",
       "7                   PHLX          NASDAQ      USD        AAPL          NMS   \n",
       "8                    ISE          NASDAQ      USD        AAPL          NMS   \n",
       "9                    CHX          NASDAQ      USD        AAPL          NMS   \n",
       "10                  ARCA          NASDAQ      USD        AAPL          NMS   \n",
       "11                NASDAQ          NASDAQ      USD        AAPL          NMS   \n",
       "12              DRCTEDGE          NASDAQ      USD        AAPL          NMS   \n",
       "13                   BEX          NASDAQ      USD        AAPL          NMS   \n",
       "14                  BATS          NASDAQ      USD        AAPL          NMS   \n",
       "15                 EDGEA          NASDAQ      USD        AAPL          NMS   \n",
       "16                   BYX          NASDAQ      USD        AAPL          NMS   \n",
       "17                   IEX          NASDAQ      USD        AAPL          NMS   \n",
       "18                  EDGX          NASDAQ      USD        AAPL          NMS   \n",
       "19              FOXRIVER          NASDAQ      USD        AAPL          NMS   \n",
       "20                 PEARL          NASDAQ      USD        AAPL          NMS   \n",
       "21               NYSENAT          NASDAQ      USD        AAPL          NMS   \n",
       "22                  LTSE          NASDAQ      USD        AAPL          NMS   \n",
       "23                  MEMX          NASDAQ      USD        AAPL          NMS   \n",
       "24                 IBEOS          NASDAQ      USD        AAPL          NMS   \n",
       "25             OVERNIGHT          NASDAQ      USD        AAPL          NMS   \n",
       "26                TPLUS0          NASDAQ      USD        AAPL          NMS   \n",
       "27                   PSX          NASDAQ      USD        AAPL          NMS   \n",
       "28                  MEXI            MEXI      MXN        AAPL         AAPL   \n",
       "29                   EBS             EBS      CHF        AAPL         AAPL   \n",
       "30                LSEETF          LSEETF      GBP        AAPL         ECE2   \n",
       "\n",
       "    includeExpired secIdType secId description issuerId comboLegsDescrip  \\\n",
       "0            False                                                         \n",
       "1            False                                                         \n",
       "2            False                                                         \n",
       "3            False                                                         \n",
       "4            False                                                         \n",
       "5            False                                                         \n",
       "6            False                                                         \n",
       "7            False                                                         \n",
       "8            False                                                         \n",
       "9            False                                                         \n",
       "10           False                                                         \n",
       "11           False                                                         \n",
       "12           False                                                         \n",
       "13           False                                                         \n",
       "14           False                                                         \n",
       "15           False                                                         \n",
       "16           False                                                         \n",
       "17           False                                                         \n",
       "18           False                                                         \n",
       "19           False                                                         \n",
       "20           False                                                         \n",
       "21           False                                                         \n",
       "22           False                                                         \n",
       "23           False                                                         \n",
       "24           False                                                         \n",
       "25           False                                                         \n",
       "26           False                                                         \n",
       "27           False                                                         \n",
       "28           False                                                         \n",
       "29           False                                                         \n",
       "30           False                                                         \n",
       "\n",
       "   comboLegs deltaNeutralContract  \n",
       "0         []                 None  \n",
       "1         []                 None  \n",
       "2         []                 None  \n",
       "3         []                 None  \n",
       "4         []                 None  \n",
       "5         []                 None  \n",
       "6         []                 None  \n",
       "7         []                 None  \n",
       "8         []                 None  \n",
       "9         []                 None  \n",
       "10        []                 None  \n",
       "11        []                 None  \n",
       "12        []                 None  \n",
       "13        []                 None  \n",
       "14        []                 None  \n",
       "15        []                 None  \n",
       "16        []                 None  \n",
       "17        []                 None  \n",
       "18        []                 None  \n",
       "19        []                 None  \n",
       "20        []                 None  \n",
       "21        []                 None  \n",
       "22        []                 None  \n",
       "23        []                 None  \n",
       "24        []                 None  \n",
       "25        []                 None  \n",
       "26        []                 None  \n",
       "27        []                 None  \n",
       "28        []                 None  \n",
       "29        []                 None  \n",
       "30        []                 None  "
      ]
     },
     "execution_count": 11,
     "metadata": {},
     "output_type": "execute_result"
    }
   ],
   "source": [
    "util.df(contracts) # converting to pandas dataframe"
   ]
  },
  {
   "cell_type": "code",
   "execution_count": 12,
   "id": "77e48bcf-a383-4777-9f09-df8a8971d7df",
   "metadata": {
    "tags": []
   },
   "outputs": [
    {
     "data": {
      "text/plain": [
       "Stock(symbol='LHA', exchange='SMART', currency='EUR')"
      ]
     },
     "execution_count": 12,
     "metadata": {},
     "output_type": "execute_result"
    }
   ],
   "source": [
    "contract = Stock(\"LHA\", \"SMART\", \"EUR\")\n",
    "contract"
   ]
  },
  {
   "cell_type": "code",
   "execution_count": 15,
   "id": "89e21806-21ec-4ef8-b4a0-ee40ffcdc0ba",
   "metadata": {
    "tags": []
   },
   "outputs": [],
   "source": [
    "cds = ib.reqContractDetails(contract)"
   ]
  },
  {
   "cell_type": "code",
   "execution_count": 16,
   "id": "8deec7b7-d2e1-44c6-b740-42d90cc404cf",
   "metadata": {
    "tags": []
   },
   "outputs": [
    {
     "data": {
      "text/plain": [
       "[ContractDetails(contract=Contract(secType='STK', conId=14171, symbol='LHA', exchange='SMART', primaryExchange='IBIS', currency='EUR', localSymbol='LHA', tradingClass='XETRA'), marketName='XETRA', minTick=0.0001, orderTypes='ACTIVETIM,AD,ADJUST,ALERT,ALGO,ALGOLTH,ALLOC,AVGCOST,BASKET,BENCHPX,CASHQTY,COND,CONDORDER,DAY,DEACT,DEACTDIS,DEACTEOD,GAT,GTC,GTD,GTT,HID,IOC,LIT,LMT,LOC,MIT,MKT,MKT2BBO,MOC,MTL,NGCOMB,NODARK,NONALGO,OCA,OPG,PEGBENCH,REL,RELPCTOFS,RTH,RTH4MKT,SCALE,SCALERST,SIZECHK,SNAPMID,SNAPMKT,SNAPREL,STP,STPLMT,TRAIL,TRAILLIT,TRAILLMT,TRAILMIT,WHATIF', validExchanges='SMART,FWB,IBIS,BVME,VSE,SWB,CHIXDE,CHIXIT,TRQXDE,BATEDE,BATEIT,TGATE,GETTEX,DXEDE,TGHEDE,DXEIT,EUIBSI,AQEUDE,AQEUIT', priceMagnifier=1, underConId=0, longName='DEUTSCHE LUFTHANSA-REG', contractMonth='', industry='Consumer, Cyclical', category='Airlines', subcategory='Airlines', timeZoneId='MET', tradingHours='20240531:0800-20240531:2200;20240601:CLOSED;20240602:CLOSED;20240603:0800-20240603:2200;20240604:0800-20240604:2200;20240605:0800-20240605:2200', liquidHours='20240531:0900-20240531:1745;20240601:CLOSED;20240602:CLOSED;20240603:0900-20240603:1745;20240604:0900-20240604:1745;20240605:0900-20240605:1745', evRule='', evMultiplier=0, mdSizeMultiplier=1, aggGroup=6, underSymbol='', underSecType='', marketRuleIds='1873,1873,1873,1873,1873,1873,1873,1873,1942,1873,1873,1873,1873,1873,1942,1873,3009,1942,1942', secIdList=[TagValue(tag='ISIN', value='DE0008232125')], realExpirationDate='', lastTradeTime='', stockType='COMMON', minSize=0.0001, sizeIncrement=0.0001, suggestedSizeIncrement=1.0, cusip='', ratings='', descAppend='', bondType='', couponType='', callable=False, putable=False, coupon=0, convertible=False, maturity='', issueDate='', nextOptionDate='', nextOptionType='', nextOptionPartial=False, notes='')]"
      ]
     },
     "execution_count": 16,
     "metadata": {},
     "output_type": "execute_result"
    }
   ],
   "source": [
    "cds"
   ]
  },
  {
   "cell_type": "code",
   "execution_count": 17,
   "id": "a919bcef-1119-4333-9db5-56f76985b215",
   "metadata": {
    "tags": []
   },
   "outputs": [
    {
     "data": {
      "text/plain": [
       "1"
      ]
     },
     "execution_count": 17,
     "metadata": {},
     "output_type": "execute_result"
    }
   ],
   "source": [
    "len(cds)"
   ]
  },
  {
   "cell_type": "code",
   "execution_count": 18,
   "id": "ffeceed3-2f61-43cf-b17e-f3b6400372df",
   "metadata": {
    "tags": []
   },
   "outputs": [],
   "source": [
    "ib.disconnect()"
   ]
  },
  {
   "cell_type": "code",
   "execution_count": null,
   "id": "49e59f9f-e7a3-453a-8b59-780cb77c3cda",
   "metadata": {},
   "outputs": [],
   "source": []
  }
 ],
 "metadata": {
  "kernelspec": {
   "display_name": "Python [conda env:ml_dev]",
   "language": "python",
   "name": "conda-env-ml_dev-py"
  },
  "language_info": {
   "codemirror_mode": {
    "name": "ipython",
    "version": 3
   },
   "file_extension": ".py",
   "mimetype": "text/x-python",
   "name": "python",
   "nbconvert_exporter": "python",
   "pygments_lexer": "ipython3",
   "version": "3.9.18"
  },
  "widgets": {
   "application/vnd.jupyter.widget-state+json": {
    "state": {},
    "version_major": 2,
    "version_minor": 0
   }
  }
 },
 "nbformat": 4,
 "nbformat_minor": 5
}
